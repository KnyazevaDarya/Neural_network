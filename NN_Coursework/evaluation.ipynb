{
  "cells": [
    {
      "cell_type": "code",
      "execution_count": null,
      "metadata": {
        "pycharm": {
          "name": "#%%\n"
        },
        "id": "qyjuqWSA19Ni"
      },
      "outputs": [],
      "source": [
        "import pickle\n",
        "import numpy as np\n",
        "from tensorflow.python.keras.models import load_model\n",
        "from tensorflow.python.client import device_lib\n",
        "from keras_preprocessing.sequence import pad_sequences\n",
        "from nltk.translate.bleu_score import corpus_bleu"
      ]
    },
    {
      "cell_type": "code",
      "execution_count": null,
      "metadata": {
        "pycharm": {
          "name": "#%%\n"
        },
        "id": "N0HBhx3o19Nq",
        "colab": {
          "base_uri": "https://localhost:8080/"
        },
        "outputId": "ee7d6fc4-6f67-474d-96f5-51838b3c54ee"
      },
      "outputs": [
        {
          "output_type": "stream",
          "name": "stdout",
          "text": [
            "Drive already mounted at /content/drive; to attempt to forcibly remount, call drive.mount(\"/content/drive\", force_remount=True).\n"
          ]
        }
      ],
      "source": [
        "import os\n",
        "import pickle\n",
        "import random\n",
        "import time\n",
        "import numpy as np\n",
        "\n",
        "from tensorflow.python.keras.models import load_model\n",
        "from tensorflow.python.client import device_lib\n",
        "from tensorflow.keras.layers import RepeatVector, TimeDistributed, Bidirectional\n",
        "\n",
        "from keras_preprocessing.text import Tokenizer\n",
        "from keras_preprocessing.sequence import pad_sequences\n",
        "from keras_preprocessing.image import load_img, img_to_array\n",
        "\n",
        "from tensorflow.keras.utils import to_categorical\n",
        "from keras.models import Model\n",
        "from keras.layers import Input\n",
        "from keras.layers import Dense\n",
        "from keras.layers import LSTM\n",
        "from keras.layers import Embedding\n",
        "from keras.layers import Dropout\n",
        "from keras.layers.merge import add\n",
        "from google.colab import drive\n",
        "\n",
        "curr_folder = '/content/drive'\n",
        "drive.mount(curr_folder)\n",
        "\n",
        "\n",
        "start_dir = curr_folder + '/MyDrive/NN/Pictures/'\n",
        "end_dir = curr_folder + '/MyDrive/NN/End/'\n",
        "\n",
        "\n",
        "path_tokenizer = curr_folder + '/MyDrive/NN/tokenizer.pkl'\n",
        "path_train_dict = curr_folder + '/MyDrive/NN/train_dict.pkl'\n",
        "path_val_dict = curr_folder + '/MyDrive/NN/val_dict.pkl'\n",
        "\n",
        "path_features_vgg16 = curr_folder + '/MyDrive/NN/vocab.pkl'\n",
        "path_features_inception = curr_folder + '/MyDrive/NN/features.pkl'"
      ]
    },
    {
      "cell_type": "code",
      "execution_count": null,
      "metadata": {
        "pycharm": {
          "name": "#%%\n"
        },
        "id": "-VMvSmDV19Nr"
      },
      "outputs": [],
      "source": [
        "def load_image_features(filename, data):\n",
        "    all_features = pickle.load(open(filename, 'rb'))\n",
        "    features = {k: all_features[k] for k in data}\n",
        "\n",
        "    return features\n",
        "\n",
        "def to_lines(data):\n",
        "    all_vals = list()\n",
        "    for key in data.keys():\n",
        "        [all_vals.append(d) for d in data[key]]\n",
        "\n",
        "    return all_vals\n",
        "\n",
        "def find_max_words(data):\n",
        "    lines = to_lines(data)\n",
        "    return max(len(l.split()) for l in lines)\n",
        "\n",
        "def load_train_data(train_dict_path, tokenizer_path, features_path):\n",
        "    with open (train_dict_path, 'rb') as f:\n",
        "        out_train_dict = pickle.load(f)\n",
        "    print('кол-во подписей .............. %d' % len(out_train_dict))\n",
        "\n",
        "    out_train_features = load_image_features(features_path, out_train_dict)\n",
        "\n",
        "    with open (tokenizer_path, 'rb') as f:\n",
        "        out_tokenizer = pickle.load(f)\n",
        "    out_vocab_size = len(out_tokenizer.word_index) + 1\n",
        "    print('размер словаря ............... %d' % out_vocab_size)\n",
        "\n",
        "    out_max_words = find_max_words(out_train_dict)\n",
        "    print('длина предложения в словах ... %d' % out_max_words)\n",
        "\n",
        "    return out_train_dict, out_tokenizer, out_vocab_size, out_max_words, out_train_features"
      ]
    },
    {
      "cell_type": "markdown",
      "metadata": {
        "pycharm": {
          "name": "#%% md\n"
        },
        "id": "z4Uw16Ez19Nt"
      },
      "source": [
        "### Наборы для валидации"
      ]
    },
    {
      "cell_type": "code",
      "execution_count": null,
      "metadata": {
        "pycharm": {
          "name": "#%%\n"
        },
        "id": "4tGMToLF19Ny",
        "outputId": "cfb8d9c4-faa2-4cba-c121-e3de995f4010",
        "colab": {
          "base_uri": "https://localhost:8080/"
        }
      },
      "outputs": [
        {
          "output_type": "stream",
          "name": "stdout",
          "text": [
            "кол-во подписей .............. 1562\n",
            "размер словаря ............... 21391\n",
            "длина предложения в словах ... 31\n"
          ]
        }
      ],
      "source": [
        "val_dict, tokenizer, vocab_size, max_words, val_features = load_train_data(path_val_dict, path_tokenizer, path_features_inception)\n",
        "max_words = 30"
      ]
    },
    {
      "cell_type": "markdown",
      "metadata": {
        "pycharm": {
          "name": "#%% md\n"
        },
        "id": "jwHvENCe19N2"
      },
      "source": [
        "# Оценка модели\n",
        "\n",
        "После того, как модель обучены, мы можем оценить качество её предсказаний в тестовом наборе данных.\n",
        "\n",
        "Мы оценим модель, создав описания для всех изображений в тестовом наборе данных и оценив эти прогнозы с помощью стандартной функции затрат.\n",
        "\n",
        "Во-первых, нам нужно иметь возможность сгенерировать описание изображения, используя обученную модель. Это включает в себя передачу маркера начального описания \"startseq\", генерацию одного слова, а затем рекурсивный вызов модели с сгенерированными словами в качестве входных данных до тех пор, пока не будет достигнут конец маркера последовательности \"endseq\" или не будет достигнута максимальная длина описания.\n",
        "\n",
        "Приведённая ниже функция реализует это поведение и генерирует текстовое описание с учётом обученной модели и заданного подготовленного изображения в качестве входных данных. Эта функция вызывает другую функцию map_int_to_word, чтобы отобразить целочисленное предсказание обратно в слово."
      ]
    },
    {
      "cell_type": "code",
      "execution_count": null,
      "metadata": {
        "pycharm": {
          "name": "#%%\n"
        },
        "id": "AwmHjPeA19N3"
      },
      "outputs": [],
      "source": [
        "def map_int_to_word(integer, tokenizer):\n",
        "    for word, idx in tokenizer.word_index.items():\n",
        "        if idx == integer:\n",
        "            return word\n",
        "\n",
        "    return None\n",
        "\n",
        "# 0 seed the generation process\n",
        "# 1 iterate over the whole length of the sequence\n",
        "# 2 integer encode input sequence\n",
        "# 3 pad input\n",
        "# 4 predict next word\n",
        "# 5 convert probability to integer\n",
        "# 6 map integer to word\n",
        "# 7 stop if we cannot map the word\n",
        "# 8 append as input for generating the next word\n",
        "# 9 stop if we predict the end of the sequence\n",
        "def generate_caption(model, tokenizer, image, max_words):\n",
        "    in_text = 'startseq'                                    # 0\n",
        "\n",
        "    for i in range(max_words):                              # 1\n",
        "        seq = tokenizer.texts_to_sequences([in_text])[0]    # 2\n",
        "        seq = pad_sequences([seq], maxlen=max_words)        # 3\n",
        "\n",
        "        y_hat = model.predict([image,seq], verbose=0)       # 4\n",
        "        y_hat = np.argmax(y_hat)                            # 5\n",
        "\n",
        "        word = map_int_to_word(y_hat, tokenizer)            # 6\n",
        "        if word is None:                                    # 7\n",
        "            break\n",
        "\n",
        "        in_text += ' ' + word                               # 8\n",
        "\n",
        "        if word == 'endseq':                                # 9\n",
        "            break\n",
        "\n",
        "    return in_text"
      ]
    },
    {
      "cell_type": "markdown",
      "metadata": {
        "pycharm": {
          "name": "#%% md\n"
        },
        "id": "H6HgplFa19N5"
      },
      "source": [
        "### BLEU\n",
        "\n",
        "Мы сгенерируем предсказания для всех изображений в тестовом наборе данных и в наборе данных для обучения.\n",
        "\n",
        "Приведенная ниже функция с именем evaluate_model() будет оценивать обученную модель по заданному набору подписей изображений и признаков изображений. Фактические и прогнозируемые описания собираются и оцениваются вместе с использованием оценки алгоритма BLEU, который оценивает, насколько сгенерированный текст близок к ожидаемому тексту.\n",
        "\n",
        "BLEU используется при переводе текста для оценки переведённого текста по одному или нескольким другим переводам."
      ]
    },
    {
      "cell_type": "code",
      "execution_count": null,
      "metadata": {
        "pycharm": {
          "name": "#%%\n"
        },
        "id": "gAK2ur2019N8"
      },
      "outputs": [],
      "source": [
        "def evaluate_model(model, captions, images, tokenizer, max_words):\n",
        "    actual, predicted = list(), list()\n",
        "\n",
        "    for key, captions_list in captions.items():\n",
        "        references = [c.split() for c in captions_list]\n",
        "        y_hat = generate_caption(model, tokenizer, images[key], max_words)\n",
        "\n",
        "        actual.append(references)\n",
        "        predicted.append(y_hat.split())\n",
        "\n",
        "    print('BLEU-1: %f' % corpus_bleu(actual, predicted, weights=(1.0, 0, 0, 0)))\n",
        "    print('BLEU-2: %f' % corpus_bleu(actual, predicted, weights=(0.5, 0.5, 0, 0)))\n",
        "    print('BLEU-3: %f' % corpus_bleu(actual, predicted, weights=(0.3, 0.3, 0.3, 0)))\n",
        "    print('BLEU-4: %f' % corpus_bleu(actual, predicted, weights=(0.25, 0.25, 0.25, 0.25)))"
      ]
    },
    {
      "cell_type": "markdown",
      "metadata": {
        "pycharm": {
          "name": "#%% md\n"
        },
        "id": "PHPe0iQh19N9"
      },
      "source": [
        "### Оценка VGG16"
      ]
    },
    {
      "cell_type": "code",
      "execution_count": null,
      "metadata": {
        "id": "nfIJEtCN19N-",
        "outputId": "d5b431aa-a912-43bd-c368-916c7d635b1f",
        "colab": {
          "base_uri": "https://localhost:8080/"
        }
      },
      "outputs": [
        {
          "output_type": "stream",
          "name": "stdout",
          "text": [
            "BLEU-1: 0.547214\n",
            "BLEU-2: 0.261290\n",
            "BLEU-3: 0.160986\n",
            "BLEU-4: 0.094975\n"
          ]
        }
      ],
      "source": [
        "path_model = curr_folder + '/MyDrive/NN/VGG1/VGG1model-0.h5'\n",
        "model = load_model(path_model)\n",
        "evaluate_model(model, val_dict, val_features, tokenizer, max_words)"
      ]
    },
    {
      "cell_type": "code",
      "execution_count": null,
      "metadata": {
        "id": "AYyvq7xt19N-",
        "outputId": "b767bee4-00bc-4914-d5a6-fd176e723e45",
        "colab": {
          "base_uri": "https://localhost:8080/"
        }
      },
      "outputs": [
        {
          "output_type": "stream",
          "name": "stdout",
          "text": [
            "BLEU-1: 0.574484\n",
            "BLEU-2: 0.277671\n",
            "BLEU-3: 0.167548\n",
            "BLEU-4: 0.090645\n"
          ]
        }
      ],
      "source": [
        "path_model = curr_folder + '/MyDrive/NN/VGG1/VGG1model-1.h5'\n",
        "model = load_model(path_model)\n",
        "evaluate_model(model, val_dict, val_features, tokenizer, max_words)"
      ]
    },
    {
      "cell_type": "code",
      "execution_count": null,
      "metadata": {
        "id": "oQWyn4lI19N_",
        "outputId": "549049b5-dea6-41cf-eef9-d4e8be6b85c6",
        "colab": {
          "base_uri": "https://localhost:8080/"
        }
      },
      "outputs": [
        {
          "output_type": "stream",
          "name": "stdout",
          "text": [
            "BLEU-1: 0.569651\n",
            "BLEU-2: 0.278423\n",
            "BLEU-3: 0.175996\n",
            "BLEU-4: 0.097475\n"
          ]
        }
      ],
      "source": [
        "path_model = curr_folder + '/MyDrive/NN/VGG1/VGG1model-2.h5'\n",
        "model = load_model(path_model)\n",
        "evaluate_model(model, val_dict, val_features, tokenizer, max_words)"
      ]
    },
    {
      "cell_type": "code",
      "execution_count": null,
      "metadata": {
        "id": "toyKFypk19OA",
        "outputId": "450eac27-26e0-4333-9974-9d4e8d9c930d",
        "colab": {
          "base_uri": "https://localhost:8080/"
        }
      },
      "outputs": [
        {
          "output_type": "stream",
          "name": "stdout",
          "text": [
            "BLEU-1: 0.562040\n",
            "BLEU-2: 0.277154\n",
            "BLEU-3: 0.181927\n",
            "BLEU-4: 0.110951\n"
          ]
        }
      ],
      "source": [
        "path_model = curr_folder + '/MyDrive/NN/VGG1/VGG1model-3.h5'\n",
        "model = load_model(path_model)\n",
        "evaluate_model(model, val_dict, val_features, tokenizer, max_words)"
      ]
    },
    {
      "cell_type": "code",
      "execution_count": null,
      "metadata": {
        "id": "Flu9F_oO19OA",
        "outputId": "02271ad1-67b1-4261-9424-3df76d4665f4",
        "colab": {
          "base_uri": "https://localhost:8080/"
        }
      },
      "outputs": [
        {
          "output_type": "stream",
          "name": "stdout",
          "text": [
            "BLEU-1: 0.574687\n",
            "BLEU-2: 0.280907\n",
            "BLEU-3: 0.180219\n",
            "BLEU-4: 0.099226\n"
          ]
        }
      ],
      "source": [
        "path_model = curr_folder + '/MyDrive/NN/VGG1/VGG1model-4.h5'\n",
        "model = load_model(path_model)\n",
        "evaluate_model(model, val_dict, val_features, tokenizer, max_words)"
      ]
    },
    {
      "cell_type": "code",
      "execution_count": null,
      "metadata": {
        "id": "YJKWyZlj19OC",
        "outputId": "98e2b97f-fdbe-49f7-c9b4-06a1ea963710",
        "colab": {
          "base_uri": "https://localhost:8080/"
        }
      },
      "outputs": [
        {
          "output_type": "stream",
          "name": "stdout",
          "text": [
            "BLEU-1: 0.580390\n",
            "BLEU-2: 0.263439\n",
            "BLEU-3: 0.163909\n",
            "BLEU-4: 0.072590\n"
          ]
        }
      ],
      "source": [
        "path_model = curr_folder + '/MyDrive/NN/VGG1/VGG1model-5.h5'\n",
        "model = load_model(path_model)\n",
        "evaluate_model(model, val_dict, val_features, tokenizer, max_words)"
      ]
    },
    {
      "cell_type": "code",
      "execution_count": null,
      "metadata": {
        "id": "X6mGI_in19OC",
        "outputId": "dc271579-3ac5-4957-8eff-1b2c38e932d6",
        "colab": {
          "base_uri": "https://localhost:8080/"
        }
      },
      "outputs": [
        {
          "output_type": "stream",
          "name": "stdout",
          "text": [
            "BLEU-1: 0.586214\n",
            "BLEU-2: 0.270662\n",
            "BLEU-3: 0.170193\n",
            "BLEU-4: 0.076256\n"
          ]
        }
      ],
      "source": [
        "path_model = curr_folder + '/MyDrive/NN/VGG1/VGG1model-6.h5'\n",
        "model = load_model(path_model)\n",
        "evaluate_model(model, val_dict, val_features, tokenizer, max_words)"
      ]
    },
    {
      "cell_type": "code",
      "execution_count": null,
      "metadata": {
        "id": "XTbsyN1c19OD",
        "outputId": "ac07ad30-f854-4ef2-9317-2b5fded7607b",
        "colab": {
          "base_uri": "https://localhost:8080/"
        }
      },
      "outputs": [
        {
          "output_type": "stream",
          "name": "stdout",
          "text": [
            "BLEU-1: 0.567054\n",
            "BLEU-2: 0.256425\n",
            "BLEU-3: 0.158422\n",
            "BLEU-4: 0.068956\n"
          ]
        }
      ],
      "source": [
        "path_model = curr_folder + '/MyDrive/NN/VGG1/VGG1model-7.h5'\n",
        "model = load_model(path_model)\n",
        "evaluate_model(model, val_dict, val_features, tokenizer, max_words)"
      ]
    },
    {
      "cell_type": "code",
      "execution_count": null,
      "metadata": {
        "id": "VFHxgAfs19OE",
        "outputId": "4ea66145-3cc5-4688-f6a7-82a5ab0cf752",
        "colab": {
          "base_uri": "https://localhost:8080/"
        }
      },
      "outputs": [
        {
          "output_type": "stream",
          "name": "stdout",
          "text": [
            "BLEU-1: 0.548946\n",
            "BLEU-2: 0.242393\n",
            "BLEU-3: 0.148712\n",
            "BLEU-4: 0.065577\n"
          ]
        }
      ],
      "source": [
        "path_model = curr_folder + '/MyDrive/NN/VGG1/VGG1model-8.h5'\n",
        "model = load_model(path_model)\n",
        "evaluate_model(model, val_dict, val_features, tokenizer, max_words)"
      ]
    },
    {
      "cell_type": "code",
      "execution_count": null,
      "metadata": {
        "id": "hjTnpDps19OE",
        "outputId": "58a0d438-8e13-4354-d8f5-9931403db5ef",
        "colab": {
          "base_uri": "https://localhost:8080/"
        }
      },
      "outputs": [
        {
          "output_type": "stream",
          "name": "stdout",
          "text": [
            "BLEU-1: 0.524117\n",
            "BLEU-2: 0.231470\n",
            "BLEU-3: 0.143271\n",
            "BLEU-4: 0.061557\n"
          ]
        }
      ],
      "source": [
        "path_model = curr_folder + '/MyDrive/NN/VGG1/VGG1model-9.h5'\n",
        "model = load_model(path_model)\n",
        "evaluate_model(model, val_dict, val_features, tokenizer, max_words)"
      ]
    },
    {
      "cell_type": "code",
      "execution_count": null,
      "metadata": {
        "id": "TbxpRKRz19OF",
        "outputId": "cc7b8f6b-1e73-4524-927e-4706c19d2e52",
        "colab": {
          "base_uri": "https://localhost:8080/"
        }
      },
      "outputs": [
        {
          "output_type": "stream",
          "name": "stdout",
          "text": [
            "BLEU-1: 0.517806\n",
            "BLEU-2: 0.230050\n",
            "BLEU-3: 0.144490\n",
            "BLEU-4: 0.061777\n"
          ]
        }
      ],
      "source": [
        "path_model = curr_folder + '/MyDrive/NN/VGG1/VGG1model-10.h5'\n",
        "model = load_model(path_model)\n",
        "evaluate_model(model, val_dict, val_features, tokenizer, max_words)"
      ]
    },
    {
      "cell_type": "code",
      "execution_count": null,
      "metadata": {
        "id": "0xJMw9Bw19OF",
        "outputId": "3e6e0b0f-a4ef-4427-f127-3ae3fb388e54",
        "colab": {
          "base_uri": "https://localhost:8080/"
        }
      },
      "outputs": [
        {
          "output_type": "stream",
          "name": "stdout",
          "text": [
            "BLEU-1: 0.510654\n",
            "BLEU-2: 0.229715\n",
            "BLEU-3: 0.140786\n",
            "BLEU-4: 0.059004\n"
          ]
        }
      ],
      "source": [
        "path_model = curr_folder + '/MyDrive/NN/VGG1/VGG1model-11.h5'\n",
        "model = load_model(path_model)\n",
        "evaluate_model(model, val_dict, val_features, tokenizer, max_words)"
      ]
    },
    {
      "cell_type": "code",
      "execution_count": null,
      "metadata": {
        "id": "bWUsmvi319OF",
        "outputId": "647bd468-3280-4b16-f351-34716891a64d",
        "colab": {
          "base_uri": "https://localhost:8080/"
        }
      },
      "outputs": [
        {
          "output_type": "stream",
          "name": "stdout",
          "text": [
            "BLEU-1: 0.526720\n",
            "BLEU-2: 0.240123\n",
            "BLEU-3: 0.144624\n",
            "BLEU-4: 0.057683\n",
            "CPU times: user 9min 42s, sys: 12.5 s, total: 9min 55s\n",
            "Wall time: 9min 19s\n"
          ]
        }
      ],
      "source": [
        "%%time \n",
        "path_model = curr_folder + '/MyDrive/NN/VGG1/VGG1model-12.h5'\n",
        "model = load_model(path_model)\n",
        "evaluate_model(model, val_dict, val_features, tokenizer, max_words)"
      ]
    },
    {
      "cell_type": "code",
      "execution_count": null,
      "metadata": {
        "id": "zypf2C9119OG",
        "outputId": "dff6aa9c-4d2f-4627-ee6c-70fea95dd49a",
        "colab": {
          "base_uri": "https://localhost:8080/"
        }
      },
      "outputs": [
        {
          "output_type": "stream",
          "name": "stdout",
          "text": [
            "BLEU-1: 0.523348\n",
            "BLEU-2: 0.236396\n",
            "BLEU-3: 0.142093\n",
            "BLEU-4: 0.056965\n",
            "CPU times: user 9min 43s, sys: 12.3 s, total: 9min 55s\n",
            "Wall time: 9min 18s\n"
          ]
        }
      ],
      "source": [
        "%%time \n",
        "path_model = curr_folder + '/MyDrive/NN/VGG1/VGG1model-13.h5'\n",
        "model = load_model(path_model)\n",
        "evaluate_model(model, val_dict, val_features, tokenizer, max_words)"
      ]
    },
    {
      "cell_type": "code",
      "execution_count": null,
      "metadata": {
        "id": "N8gkVHsy19OG",
        "outputId": "d3c9b43b-d24c-4890-87cf-06f0d7e2d9f6",
        "colab": {
          "base_uri": "https://localhost:8080/"
        }
      },
      "outputs": [
        {
          "output_type": "stream",
          "name": "stdout",
          "text": [
            "BLEU-1: 0.502979\n",
            "BLEU-2: 0.224907\n",
            "BLEU-3: 0.136318\n",
            "BLEU-4: 0.055936\n"
          ]
        }
      ],
      "source": [
        "path_model = curr_folder + '/MyDrive/NN/VGG1/VGG1model-14.h5'\n",
        "model = load_model(path_model)\n",
        "evaluate_model(model, val_dict, val_features, tokenizer, max_words)"
      ]
    },
    {
      "cell_type": "code",
      "execution_count": null,
      "metadata": {
        "id": "QwpOdCkD19OG",
        "outputId": "db4b0f76-3115-4503-d654-a1bb94db8fb1",
        "colab": {
          "base_uri": "https://localhost:8080/"
        }
      },
      "outputs": [
        {
          "output_type": "stream",
          "name": "stdout",
          "text": [
            "BLEU-1: 0.415937\n",
            "BLEU-2: 0.168460\n",
            "BLEU-3: 0.099650\n",
            "BLEU-4: 0.037336\n",
            "CPU times: user 13min 51s, sys: 17.1 s, total: 14min 8s\n",
            "Wall time: 13min 15s\n"
          ]
        }
      ],
      "source": [
        "%%time \n",
        "path_model = curr_folder + '/MyDrive/NN/VGG1/VGG1model-15.h5'\n",
        "model = load_model(path_model)\n",
        "evaluate_model(model, val_dict, val_features, tokenizer, max_words)"
      ]
    },
    {
      "cell_type": "code",
      "execution_count": null,
      "metadata": {
        "id": "x-6tXLG719OG",
        "outputId": "6636da32-f5d2-44ef-d3cc-9da9e182e54a",
        "colab": {
          "base_uri": "https://localhost:8080/"
        }
      },
      "outputs": [
        {
          "output_type": "stream",
          "name": "stdout",
          "text": [
            "BLEU-1: 0.495484\n",
            "BLEU-2: 0.219394\n",
            "BLEU-3: 0.131719\n",
            "BLEU-4: 0.053408\n",
            "CPU times: user 9min 53s, sys: 12.2 s, total: 10min 5s\n",
            "Wall time: 9min 28s\n"
          ]
        }
      ],
      "source": [
        "%%time \n",
        "path_model = curr_folder + '/MyDrive/NN/VGG1/VGG1model-16.h5'\n",
        "model = load_model(path_model)\n",
        "evaluate_model(model, val_dict, val_features, tokenizer, max_words)"
      ]
    },
    {
      "cell_type": "code",
      "execution_count": null,
      "metadata": {
        "id": "wRh82rZt19OH",
        "outputId": "3927975e-351f-48ea-c0c6-2501aab605ad",
        "colab": {
          "base_uri": "https://localhost:8080/"
        }
      },
      "outputs": [
        {
          "output_type": "stream",
          "name": "stdout",
          "text": [
            "BLEU-1: 0.431496\n",
            "BLEU-2: 0.179422\n",
            "BLEU-3: 0.106734\n",
            "BLEU-4: 0.041598\n",
            "CPU times: user 13min 2s, sys: 16.1 s, total: 13min 18s\n",
            "Wall time: 12min 31s\n"
          ]
        }
      ],
      "source": [
        "%%time \n",
        "path_model = curr_folder + '/MyDrive/NN/VGG1/VGG1model-17.h5'\n",
        "model = load_model(path_model)\n",
        "evaluate_model(model, val_dict, val_features, tokenizer, max_words)"
      ]
    },
    {
      "cell_type": "code",
      "execution_count": null,
      "metadata": {
        "id": "o9m6esKW19OH",
        "outputId": "82555cc1-74ba-410d-bfd7-34d7a2423314",
        "colab": {
          "base_uri": "https://localhost:8080/"
        }
      },
      "outputs": [
        {
          "output_type": "stream",
          "name": "stdout",
          "text": [
            "BLEU-1: 0.576722\n",
            "BLEU-2: 0.255762\n",
            "BLEU-3: 0.154356\n",
            "BLEU-4: 0.068002\n",
            "CPU times: user 7min 56s, sys: 10 s, total: 8min 6s\n",
            "Wall time: 7min 38s\n"
          ]
        }
      ],
      "source": [
        "%%time \n",
        "path_model = curr_folder + '/MyDrive/NN/VGG1/VGG1model-18.h5'\n",
        "model = load_model(path_model)\n",
        "evaluate_model(model, val_dict, val_features, tokenizer, max_words)"
      ]
    },
    {
      "cell_type": "code",
      "execution_count": null,
      "metadata": {
        "pycharm": {
          "name": "#%%\n"
        },
        "id": "h6OtT5Ew19OH",
        "outputId": "7e7bc515-bc87-4f8b-a281-4ed2333634a6",
        "colab": {
          "base_uri": "https://localhost:8080/"
        }
      },
      "outputs": [
        {
          "output_type": "stream",
          "name": "stdout",
          "text": [
            "BLEU-1: 0.546610\n",
            "BLEU-2: 0.243145\n",
            "BLEU-3: 0.145509\n",
            "BLEU-4: 0.061339\n"
          ]
        }
      ],
      "source": [
        "path_model = curr_folder + '/MyDrive/NN/VGG1/VGG1model-19.h5'\n",
        "model = load_model(path_model)\n",
        "evaluate_model(model, val_dict, val_features, tokenizer, max_words)"
      ]
    },
    {
      "cell_type": "markdown",
      "source": [
        "## Оценка VGG16-2"
      ],
      "metadata": {
        "collapsed": false,
        "pycharm": {
          "name": "#%% md\n"
        },
        "id": "qa4Osydj19OI"
      }
    },
    {
      "cell_type": "code",
      "execution_count": null,
      "outputs": [
        {
          "name": "stdout",
          "output_type": "stream",
          "text": [
            "BLEU-1: 0.330890\n",
            "BLEU-2: 0.132260\n",
            "BLEU-3: 0.089523\n",
            "BLEU-4: 0.025266\n"
          ]
        }
      ],
      "source": [
        "path_model = 'D:/models/vgg16-2/model-0.h5'\n",
        "model = load_model(path_model)\n",
        "evaluate_model(model, val_dict, val_features, tokenizer, max_words)"
      ],
      "metadata": {
        "pycharm": {
          "name": "#%%\n"
        },
        "id": "jMk0ynY219OI",
        "outputId": "62002755-6d1c-4bf5-fea7-552e30aea888"
      }
    },
    {
      "cell_type": "code",
      "execution_count": null,
      "outputs": [
        {
          "name": "stdout",
          "output_type": "stream",
          "text": [
            "BLEU-1: 0.251889\n",
            "BLEU-2: 0.133708\n",
            "BLEU-3: 0.100575\n",
            "BLEU-4: 0.042080\n",
            "Wall time: 1h 41min 25s\n"
          ]
        }
      ],
      "source": [
        "%%time\n",
        "path_model = 'D:/models/vgg16-2/model-1.h5'\n",
        "model = load_model(path_model)\n",
        "evaluate_model(model, val_dict, val_features, tokenizer, max_words)"
      ],
      "metadata": {
        "pycharm": {
          "name": "#%%\n"
        },
        "id": "DbJPEI0a19OI",
        "outputId": "9c4ae007-d324-457b-f91a-a743a77ff901"
      }
    },
    {
      "cell_type": "code",
      "execution_count": null,
      "outputs": [
        {
          "name": "stdout",
          "output_type": "stream",
          "text": [
            "BLEU-1: 0.333354\n",
            "BLEU-2: 0.182158\n",
            "BLEU-3: 0.135445\n",
            "BLEU-4: 0.059651\n",
            "Wall time: 1h 18min 58s\n"
          ]
        }
      ],
      "source": [
        "%%time\n",
        "path_model = 'D:/models/vgg16-2/model-2.h5'\n",
        "model = load_model(path_model)\n",
        "evaluate_model(model, val_dict, val_features, tokenizer, max_words)"
      ],
      "metadata": {
        "pycharm": {
          "name": "#%%\n"
        },
        "id": "eiDNGj-k19OI",
        "outputId": "f0a286ff-88a7-4240-a101-e1d05236c732"
      }
    },
    {
      "cell_type": "code",
      "execution_count": null,
      "outputs": [
        {
          "name": "stdout",
          "output_type": "stream",
          "text": [
            "BLEU-1: 0.504368\n",
            "BLEU-2: 0.283720\n",
            "BLEU-3: 0.207341\n",
            "BLEU-4: 0.100291\n",
            "Wall time: 56min 24s\n"
          ]
        }
      ],
      "source": [
        "%%time\n",
        "path_model = 'D:/models/vgg16-2/model-3.h5'\n",
        "model = load_model(path_model)\n",
        "evaluate_model(model, val_dict, val_features, tokenizer, max_words)"
      ],
      "metadata": {
        "pycharm": {
          "name": "#%%\n"
        },
        "id": "PIPPKGZm19OJ",
        "outputId": "7dedf12f-3745-4358-871e-6f6a02d0e304"
      }
    },
    {
      "cell_type": "code",
      "execution_count": null,
      "outputs": [
        {
          "name": "stdout",
          "output_type": "stream",
          "text": [
            "BLEU-1: 0.487142\n",
            "BLEU-2: 0.273837\n",
            "BLEU-3: 0.201340\n",
            "BLEU-4: 0.096789\n",
            "Wall time: 53min 13s\n"
          ]
        }
      ],
      "source": [
        "%%time\n",
        "path_model = 'D:/models/vgg16-2/model-4.h5'\n",
        "model = load_model(path_model)\n",
        "evaluate_model(model, val_dict, val_features, tokenizer, max_words)"
      ],
      "metadata": {
        "pycharm": {
          "name": "#%%\n"
        },
        "id": "9vn62GBt19OJ",
        "outputId": "c0bac260-62b2-44a3-dd1e-0ecc27e2fba1"
      }
    },
    {
      "cell_type": "code",
      "execution_count": null,
      "outputs": [
        {
          "name": "stdout",
          "output_type": "stream",
          "text": [
            "BLEU-1: 0.503695\n",
            "BLEU-2: 0.287683\n",
            "BLEU-3: 0.213201\n",
            "BLEU-4: 0.106811\n",
            "Wall time: 53min 24s\n"
          ]
        }
      ],
      "source": [
        "%%time\n",
        "path_model = 'D:/models/vgg16-2/model-5.h5'\n",
        "model = load_model(path_model)\n",
        "evaluate_model(model, val_dict, val_features, tokenizer, max_words)"
      ],
      "metadata": {
        "pycharm": {
          "name": "#%%\n"
        },
        "id": "0rHtkHEB19OJ",
        "outputId": "039df344-ffe4-4a7d-bed7-359ba4255b97"
      }
    },
    {
      "cell_type": "code",
      "execution_count": null,
      "outputs": [
        {
          "name": "stdout",
          "output_type": "stream",
          "text": [
            "BLEU-1: 0.512076\n",
            "BLEU-2: 0.293938\n",
            "BLEU-3: 0.219297\n",
            "BLEU-4: 0.110592\n"
          ]
        }
      ],
      "source": [
        "path_model = 'D:/models/vgg16-2/model-6.h5'\n",
        "model = load_model(path_model)\n",
        "evaluate_model(model, val_dict, val_features, tokenizer, max_words)"
      ],
      "metadata": {
        "pycharm": {
          "name": "#%%\n"
        },
        "id": "AK8vADIU19OJ",
        "outputId": "0df0aaea-792e-4cf4-ff14-acad3b0a58bc"
      }
    },
    {
      "cell_type": "code",
      "execution_count": null,
      "outputs": [
        {
          "name": "stdout",
          "output_type": "stream",
          "text": [
            "BLEU-1: 0.512135\n",
            "BLEU-2: 0.292193\n",
            "BLEU-3: 0.217427\n",
            "BLEU-4: 0.111023\n",
            "Wall time: 52min 39s\n"
          ]
        }
      ],
      "source": [
        "%%time\n",
        "path_model = 'D:/models/vgg16-2/model-7.h5'\n",
        "model = load_model(path_model)\n",
        "evaluate_model(model, val_dict, val_features, tokenizer, max_words)"
      ],
      "metadata": {
        "pycharm": {
          "name": "#%%\n"
        },
        "id": "K9QjCvst19OK",
        "outputId": "db111e76-bcae-4c2f-93f9-cf550cd6f5f2"
      }
    },
    {
      "cell_type": "code",
      "execution_count": null,
      "outputs": [
        {
          "name": "stdout",
          "output_type": "stream",
          "text": [
            "BLEU-1: 0.511659\n",
            "BLEU-2: 0.289843\n",
            "BLEU-3: 0.216488\n",
            "BLEU-4: 0.110830\n",
            "Wall time: 50min 47s\n"
          ]
        }
      ],
      "source": [
        "%%time\n",
        "path_model = 'D:/models/vgg16-2/model-8.h5'\n",
        "model = load_model(path_model)\n",
        "evaluate_model(model, val_dict, val_features, tokenizer, max_words)"
      ],
      "metadata": {
        "pycharm": {
          "name": "#%%\n"
        },
        "id": "YXJ5xUo619OK",
        "outputId": "f6f0ddbb-5379-498d-f9b8-cde425bdbf3b"
      }
    },
    {
      "cell_type": "code",
      "execution_count": null,
      "outputs": [
        {
          "name": "stdout",
          "output_type": "stream",
          "text": [
            "BLEU-1: 0.508568\n",
            "BLEU-2: 0.288118\n",
            "BLEU-3: 0.213113\n",
            "BLEU-4: 0.107240\n",
            "Wall time: 49min 30s\n"
          ]
        }
      ],
      "source": [
        "%%time\n",
        "path_model = 'D:/models/vgg16-2/model-9.h5'\n",
        "model = load_model(path_model)\n",
        "evaluate_model(model, val_dict, val_features, tokenizer, max_words)"
      ],
      "metadata": {
        "pycharm": {
          "name": "#%%\n"
        },
        "id": "9hUPjL4m19OK",
        "outputId": "b96ecd16-78d0-4122-e78e-90d23b0b1a77"
      }
    },
    {
      "cell_type": "code",
      "execution_count": null,
      "outputs": [
        {
          "name": "stdout",
          "output_type": "stream",
          "text": [
            "BLEU-1: 0.502268\n",
            "BLEU-2: 0.286105\n",
            "BLEU-3: 0.213294\n",
            "BLEU-4: 0.107053\n",
            "Wall time: 50min 25s\n"
          ]
        }
      ],
      "source": [
        "%%time\n",
        "path_model = 'D:/models/vgg16-2/model-10.h5'\n",
        "model = load_model(path_model)\n",
        "evaluate_model(model, val_dict, val_features, tokenizer, max_words)"
      ],
      "metadata": {
        "pycharm": {
          "name": "#%%\n"
        },
        "id": "TxNIevzv19OK",
        "outputId": "e0d47e97-3872-40b8-cf6c-2608c071f1d8"
      }
    },
    {
      "cell_type": "code",
      "execution_count": null,
      "outputs": [
        {
          "name": "stdout",
          "output_type": "stream",
          "text": [
            "BLEU-1: 0.504939\n",
            "BLEU-2: 0.287782\n",
            "BLEU-3: 0.215184\n",
            "BLEU-4: 0.108405\n",
            "Wall time: 49min 49s\n"
          ]
        }
      ],
      "source": [
        "%%time\n",
        "path_model = 'D:/models/vgg16-2/model-11.h5'\n",
        "model = load_model(path_model)\n",
        "evaluate_model(model, val_dict, val_features, tokenizer, max_words)"
      ],
      "metadata": {
        "pycharm": {
          "name": "#%%\n"
        },
        "id": "A2V-7auM19OK",
        "outputId": "9d213568-6c53-437f-8248-f21576a41119"
      }
    },
    {
      "cell_type": "code",
      "execution_count": null,
      "outputs": [
        {
          "name": "stdout",
          "output_type": "stream",
          "text": [
            "BLEU-1: 0.501813\n",
            "BLEU-2: 0.284998\n",
            "BLEU-3: 0.212785\n",
            "BLEU-4: 0.106470\n",
            "Wall time: 51min 14s\n"
          ]
        }
      ],
      "source": [
        "%%time\n",
        "path_model = 'D:/models/vgg16-2/model-12.h5'\n",
        "model = load_model(path_model)\n",
        "evaluate_model(model, val_dict, val_features, tokenizer, max_words)"
      ],
      "metadata": {
        "pycharm": {
          "name": "#%%\n"
        },
        "id": "5fU7_SgZ19OL",
        "outputId": "16a4b60b-80ec-4420-e668-3b6ab10db090"
      }
    },
    {
      "cell_type": "code",
      "execution_count": null,
      "outputs": [
        {
          "name": "stdout",
          "output_type": "stream",
          "text": [
            "BLEU-1: 0.508468\n",
            "BLEU-2: 0.288323\n",
            "BLEU-3: 0.215613\n",
            "BLEU-4: 0.109824\n",
            "Wall time: 51min 34s\n"
          ]
        }
      ],
      "source": [
        "%%time\n",
        "path_model = 'D:/models/vgg16-2/model-13.h5'\n",
        "model = load_model(path_model)\n",
        "evaluate_model(model, val_dict, val_features, tokenizer, max_words)"
      ],
      "metadata": {
        "pycharm": {
          "name": "#%%\n"
        },
        "id": "N7_KsSiW19OL",
        "outputId": "a400119b-5c93-45dd-cd9d-77e3e46a6b22"
      }
    },
    {
      "cell_type": "code",
      "execution_count": null,
      "outputs": [
        {
          "name": "stdout",
          "output_type": "stream",
          "text": [
            "BLEU-1: 0.501221\n",
            "BLEU-2: 0.284398\n",
            "BLEU-3: 0.211127\n",
            "BLEU-4: 0.105456\n",
            "Wall time: 53min 59s\n"
          ]
        }
      ],
      "source": [
        "%%time\n",
        "path_model = 'D:/models/vgg16-2/model-14.h5'\n",
        "model = load_model(path_model)\n",
        "evaluate_model(model, val_dict, val_features, tokenizer, max_words)"
      ],
      "metadata": {
        "pycharm": {
          "name": "#%%\n"
        },
        "id": "3Ib7ej4q19OL",
        "outputId": "91eed90f-3f4e-48c7-daf1-36553411ef1b"
      }
    },
    {
      "cell_type": "code",
      "execution_count": null,
      "outputs": [
        {
          "name": "stdout",
          "output_type": "stream",
          "text": [
            "BLEU-1: 0.500942\n",
            "BLEU-2: 0.282896\n",
            "BLEU-3: 0.211010\n",
            "BLEU-4: 0.106437\n",
            "Wall time: 51min 42s\n"
          ]
        }
      ],
      "source": [
        "%%time\n",
        "path_model = 'D:/models/vgg16-2/model-15.h5'\n",
        "model = load_model(path_model)\n",
        "evaluate_model(model, val_dict, val_features, tokenizer, max_words)"
      ],
      "metadata": {
        "pycharm": {
          "name": "#%%\n"
        },
        "id": "wQUeB_EL19OL",
        "outputId": "447cd378-e658-4de0-f9b2-a3a790e63672"
      }
    },
    {
      "cell_type": "code",
      "execution_count": null,
      "outputs": [
        {
          "name": "stdout",
          "output_type": "stream",
          "text": [
            "BLEU-1: 0.495775\n",
            "BLEU-2: 0.280361\n",
            "BLEU-3: 0.210769\n",
            "BLEU-4: 0.108840\n",
            "Wall time: 51min 23s\n"
          ]
        }
      ],
      "source": [
        "%%time\n",
        "path_model = 'D:/models/vgg16-2/model-16.h5'\n",
        "model = load_model(path_model)\n",
        "evaluate_model(model, val_dict, val_features, tokenizer, max_words)"
      ],
      "metadata": {
        "pycharm": {
          "name": "#%%\n"
        },
        "id": "fjRRuDjl19OM",
        "outputId": "22d0ac03-e459-400e-cfd3-b00e9fee38a0"
      }
    },
    {
      "cell_type": "code",
      "execution_count": null,
      "outputs": [
        {
          "name": "stdout",
          "output_type": "stream",
          "text": [
            "BLEU-1: 0.494823\n",
            "BLEU-2: 0.279827\n",
            "BLEU-3: 0.209732\n",
            "BLEU-4: 0.107115\n",
            "Wall time: 52min 35s\n"
          ]
        }
      ],
      "source": [
        "%%time\n",
        "path_model = 'D:/models/vgg16-2/model-17.h5'\n",
        "model = load_model(path_model)\n",
        "evaluate_model(model, val_dict, val_features, tokenizer, max_words)"
      ],
      "metadata": {
        "pycharm": {
          "name": "#%%\n"
        },
        "id": "m0abG3_219OT",
        "outputId": "ad0a7edd-0c1f-48e6-ee45-284c2d2576ac"
      }
    },
    {
      "cell_type": "code",
      "execution_count": null,
      "outputs": [
        {
          "name": "stdout",
          "output_type": "stream",
          "text": [
            "BLEU-1: 0.482858\n",
            "BLEU-2: 0.270046\n",
            "BLEU-3: 0.200387\n",
            "BLEU-4: 0.099557\n",
            "Wall time: 51min 12s\n"
          ]
        }
      ],
      "source": [
        "%%time\n",
        "path_model = 'D:/models/vgg16-2/model-18.h5'\n",
        "model = load_model(path_model)\n",
        "evaluate_model(model, val_dict, val_features, tokenizer, max_words)"
      ],
      "metadata": {
        "pycharm": {
          "name": "#%%\n"
        },
        "id": "rTtkREgd19OT",
        "outputId": "0d362ee7-b49f-4f39-93eb-4856ed415723"
      }
    },
    {
      "cell_type": "code",
      "execution_count": null,
      "outputs": [
        {
          "name": "stdout",
          "output_type": "stream",
          "text": [
            "BLEU-1: 0.479654\n",
            "BLEU-2: 0.266615\n",
            "BLEU-3: 0.198103\n",
            "BLEU-4: 0.098578\n",
            "Wall time: 50min 57s\n"
          ]
        }
      ],
      "source": [
        "%%time\n",
        "path_model = 'D:/models/vgg16-2/model-19.h5'\n",
        "model = load_model(path_model)\n",
        "evaluate_model(model, val_dict, val_features, tokenizer, max_words)"
      ],
      "metadata": {
        "pycharm": {
          "name": "#%%\n"
        },
        "id": "iW9vCpNi19OT",
        "outputId": "5b4f9dee-9ee3-4181-d41f-97f811e5a74f"
      }
    },
    {
      "cell_type": "markdown",
      "source": [
        "## Оценка Inception"
      ],
      "metadata": {
        "collapsed": false,
        "pycharm": {
          "name": "#%% md\n"
        },
        "id": "JQSRggzk19OU"
      }
    },
    {
      "cell_type": "code",
      "execution_count": null,
      "outputs": [
        {
          "output_type": "stream",
          "name": "stdout",
          "text": [
            "BLEU-1: 0.506083\n",
            "BLEU-2: 0.229848\n",
            "BLEU-3: 0.117963\n",
            "BLEU-4: 0.056931\n",
            "CPU times: user 4min 47s, sys: 6.13 s, total: 4min 53s\n",
            "Wall time: 4min 38s\n"
          ]
        }
      ],
      "source": [
        "%%time\n",
        "path_model = curr_folder + '/MyDrive/NN/Inspiration1/Inspiration1-0.h5'\n",
        "model = load_model(path_model)\n",
        "evaluate_model(model, val_dict, val_features, tokenizer, max_words)"
      ],
      "metadata": {
        "pycharm": {
          "name": "#%%\n"
        },
        "id": "f-g-Dq-919OU",
        "outputId": "bc2700ef-8235-4cf0-ac64-e253726cbcdd",
        "colab": {
          "base_uri": "https://localhost:8080/"
        }
      }
    },
    {
      "cell_type": "code",
      "execution_count": null,
      "outputs": [
        {
          "output_type": "stream",
          "name": "stdout",
          "text": [
            "BLEU-1: 0.578135\n",
            "BLEU-2: 0.264244\n",
            "BLEU-3: 0.155192\n",
            "BLEU-4: 0.061154\n",
            "CPU times: user 7min 33s, sys: 9.55 s, total: 7min 42s\n",
            "Wall time: 7min 15s\n"
          ]
        }
      ],
      "source": [
        "%%time\n",
        "path_model = curr_folder + '/MyDrive/NN/Inspiration1/Inspiration1-1.h5'\n",
        "model = load_model(path_model)\n",
        "evaluate_model(model, val_dict, val_features, tokenizer, max_words)"
      ],
      "metadata": {
        "pycharm": {
          "name": "#%%\n"
        },
        "id": "V1Rmj1Zw19OU",
        "outputId": "1f61df1d-39cc-4852-adc3-8c95438359c1",
        "colab": {
          "base_uri": "https://localhost:8080/"
        }
      }
    },
    {
      "cell_type": "code",
      "execution_count": null,
      "metadata": {
        "id": "C9qhFojg19OU",
        "outputId": "1b5e5ccb-0dc3-441a-d09d-efe0d36fd54a",
        "colab": {
          "base_uri": "https://localhost:8080/"
        }
      },
      "outputs": [
        {
          "output_type": "stream",
          "name": "stdout",
          "text": [
            "BLEU-1: 0.584309\n",
            "BLEU-2: 0.269289\n",
            "BLEU-3: 0.166828\n",
            "BLEU-4: 0.067834\n",
            "CPU times: user 7min 57s, sys: 10 s, total: 8min 7s\n",
            "Wall time: 7min 37s\n"
          ]
        }
      ],
      "source": [
        "%%time \n",
        "path_model = curr_folder + '/MyDrive/NN/Inspiration1/Inspiration1-2.h5'\n",
        "model = load_model(path_model)\n",
        "evaluate_model(model, val_dict, val_features, tokenizer, max_words)"
      ]
    },
    {
      "cell_type": "code",
      "execution_count": null,
      "metadata": {
        "id": "JYoTFbCl19OV",
        "outputId": "dac7688c-e324-4e93-9ec2-553430793679",
        "colab": {
          "base_uri": "https://localhost:8080/"
        }
      },
      "outputs": [
        {
          "output_type": "stream",
          "name": "stdout",
          "text": [
            "BLEU-1: 0.578745\n",
            "BLEU-2: 0.267274\n",
            "BLEU-3: 0.165344\n",
            "BLEU-4: 0.075693\n",
            "CPU times: user 7min 52s, sys: 9.98 s, total: 8min 2s\n",
            "Wall time: 7min 32s\n"
          ]
        }
      ],
      "source": [
        "%%time \n",
        "path_model = curr_folder + '/MyDrive/NN/Inspiration1/Inspiration1-3.h5'\n",
        "model = load_model(path_model)\n",
        "evaluate_model(model, val_dict, val_features, tokenizer, max_words)"
      ]
    },
    {
      "cell_type": "code",
      "execution_count": null,
      "metadata": {
        "id": "JonRLpei19OV",
        "outputId": "749fccbc-e32d-4b9d-aa2f-dd68b241b334",
        "colab": {
          "base_uri": "https://localhost:8080/"
        }
      },
      "outputs": [
        {
          "output_type": "stream",
          "name": "stdout",
          "text": [
            "BLEU-1: 0.575544\n",
            "BLEU-2: 0.267224\n",
            "BLEU-3: 0.166908\n",
            "BLEU-4: 0.075349\n",
            "CPU times: user 7min 57s, sys: 10 s, total: 8min 7s\n",
            "Wall time: 7min 37s\n"
          ]
        }
      ],
      "source": [
        "%%time \n",
        "path_model = curr_folder + '/MyDrive/NN/Inspiration1/Inspiration1-4.h5'\n",
        "model = load_model(path_model)\n",
        "evaluate_model(model, val_dict, val_features, tokenizer, max_words)"
      ]
    },
    {
      "cell_type": "code",
      "execution_count": null,
      "metadata": {
        "id": "s9naxqtB19OV",
        "outputId": "538bb822-4d3b-4074-ad38-0233ecc36c26",
        "colab": {
          "base_uri": "https://localhost:8080/"
        }
      },
      "outputs": [
        {
          "output_type": "stream",
          "name": "stdout",
          "text": [
            "BLEU-1: 0.571140\n",
            "BLEU-2: 0.262602\n",
            "BLEU-3: 0.160878\n",
            "BLEU-4: 0.070366\n",
            "CPU times: user 7min 55s, sys: 9.74 s, total: 8min 4s\n",
            "Wall time: 7min 36s\n"
          ]
        }
      ],
      "source": [
        "%%time \n",
        "path_model = curr_folder + '/MyDrive/NN/Inspiration1/Inspiration1-5.h5'\n",
        "model = load_model(path_model)\n",
        "evaluate_model(model, val_dict, val_features, tokenizer, max_words)"
      ]
    },
    {
      "cell_type": "code",
      "execution_count": null,
      "metadata": {
        "id": "IxOLxkUq19OV",
        "outputId": "ddfa1c88-5464-477a-c239-d9a48af7e43f",
        "colab": {
          "base_uri": "https://localhost:8080/"
        }
      },
      "outputs": [
        {
          "output_type": "stream",
          "name": "stdout",
          "text": [
            "BLEU-1: 0.563990\n",
            "BLEU-2: 0.259169\n",
            "BLEU-3: 0.159276\n",
            "BLEU-4: 0.069845\n",
            "CPU times: user 8min 5s, sys: 10.6 s, total: 8min 16s\n",
            "Wall time: 7min 44s\n"
          ]
        }
      ],
      "source": [
        "%%time \n",
        "path_model = curr_folder + '/MyDrive/NN/Inspiration1/Inspiration1-6.h5'\n",
        "model = load_model(path_model)\n",
        "evaluate_model(model, val_dict, val_features, tokenizer, max_words)"
      ]
    },
    {
      "cell_type": "code",
      "execution_count": null,
      "metadata": {
        "id": "255-Z_Ev19OW",
        "outputId": "074fa098-1b0e-4bbd-f897-5a53fabce7e7",
        "colab": {
          "base_uri": "https://localhost:8080/"
        }
      },
      "outputs": [
        {
          "output_type": "stream",
          "name": "stdout",
          "text": [
            "BLEU-1: 0.520316\n",
            "BLEU-2: 0.235528\n",
            "BLEU-3: 0.141751\n",
            "BLEU-4: 0.053983\n",
            "CPU times: user 9min 14s, sys: 12.2 s, total: 9min 26s\n",
            "Wall time: 8min 53s\n"
          ]
        }
      ],
      "source": [
        "%%time \n",
        "path_model = curr_folder + '/MyDrive/NN/Inspiration1/Inspiration1-7.h5'\n",
        "model = load_model(path_model)\n",
        "evaluate_model(model, val_dict, val_features, tokenizer, max_words)"
      ]
    },
    {
      "cell_type": "code",
      "execution_count": null,
      "metadata": {
        "id": "apKsWdHl19OW",
        "outputId": "0605b92a-e40e-4fc0-c289-2fad540a4874",
        "colab": {
          "base_uri": "https://localhost:8080/"
        }
      },
      "outputs": [
        {
          "output_type": "stream",
          "name": "stdout",
          "text": [
            "BLEU-1: 0.543916\n",
            "BLEU-2: 0.249947\n",
            "BLEU-3: 0.152320\n",
            "BLEU-4: 0.062391\n",
            "CPU times: user 8min 49s, sys: 11 s, total: 9min\n",
            "Wall time: 8min 28s\n"
          ]
        }
      ],
      "source": [
        "%%time \n",
        "path_model = curr_folder + '/MyDrive/NN/Inspiration1/Inspiration1-8.h5'\n",
        "model = load_model(path_model)\n",
        "evaluate_model(model, val_dict, val_features, tokenizer, max_words)"
      ]
    },
    {
      "cell_type": "code",
      "execution_count": null,
      "metadata": {
        "id": "hU1BEBM_19OW",
        "outputId": "17ca400d-5d91-4119-ee3a-97e2145af7e4",
        "colab": {
          "base_uri": "https://localhost:8080/"
        }
      },
      "outputs": [
        {
          "output_type": "stream",
          "name": "stdout",
          "text": [
            "BLEU-1: 0.570103\n",
            "BLEU-2: 0.261413\n",
            "BLEU-3: 0.157224\n",
            "BLEU-4: 0.064615\n",
            "CPU times: user 8min 4s, sys: 9.96 s, total: 8min 14s\n",
            "Wall time: 7min 45s\n"
          ]
        }
      ],
      "source": [
        "%%time \n",
        "path_model = curr_folder + '/MyDrive/NN/Inspiration1/Inspiration1-9.h5'\n",
        "model = load_model(path_model)\n",
        "evaluate_model(model, val_dict, val_features, tokenizer, max_words)"
      ]
    },
    {
      "cell_type": "code",
      "execution_count": null,
      "metadata": {
        "id": "cgu5raSP19OW",
        "outputId": "86ff73a6-69d3-4418-d9c7-ae908990b9ea",
        "colab": {
          "base_uri": "https://localhost:8080/"
        }
      },
      "outputs": [
        {
          "output_type": "stream",
          "name": "stdout",
          "text": [
            "BLEU-1: 0.572328\n",
            "BLEU-2: 0.260745\n",
            "BLEU-3: 0.154265\n",
            "BLEU-4: 0.065935\n",
            "CPU times: user 8min 3s, sys: 10.1 s, total: 8min 13s\n",
            "Wall time: 7min 44s\n"
          ]
        }
      ],
      "source": [
        "%%time \n",
        "path_model = curr_folder + '/MyDrive/NN/Inspiration1/Inspiration1-10.h5'\n",
        "model = load_model(path_model)\n",
        "evaluate_model(model, val_dict, val_features, tokenizer, max_words)"
      ]
    },
    {
      "cell_type": "code",
      "execution_count": null,
      "metadata": {
        "id": "FabQMsM819OX",
        "outputId": "052a3bef-a430-4f0d-bd2c-ba83899f3539",
        "colab": {
          "base_uri": "https://localhost:8080/"
        }
      },
      "outputs": [
        {
          "output_type": "stream",
          "name": "stdout",
          "text": [
            "BLEU-1: 0.559946\n",
            "BLEU-2: 0.252203\n",
            "BLEU-3: 0.152400\n",
            "BLEU-4: 0.066170\n",
            "CPU times: user 8min 13s, sys: 10.7 s, total: 8min 24s\n",
            "Wall time: 7min 55s\n"
          ]
        }
      ],
      "source": [
        "%%time \n",
        "path_model = curr_folder + '/MyDrive/NN/Inspiration1/Inspiration1-11.h5'\n",
        "model = load_model(path_model)\n",
        "evaluate_model(model, val_dict, val_features, tokenizer, max_words)"
      ]
    },
    {
      "cell_type": "code",
      "execution_count": null,
      "metadata": {
        "id": "xiPvCUjQ19OX",
        "outputId": "67583664-6e0d-41cd-e413-b4aa05181a80",
        "colab": {
          "base_uri": "https://localhost:8080/"
        }
      },
      "outputs": [
        {
          "output_type": "stream",
          "name": "stdout",
          "text": [
            "BLEU-1: 0.572345\n",
            "BLEU-2: 0.260171\n",
            "BLEU-3: 0.155195\n",
            "BLEU-4: 0.063577\n",
            "CPU times: user 7min 59s, sys: 10.4 s, total: 8min 9s\n",
            "Wall time: 7min 40s\n"
          ]
        }
      ],
      "source": [
        "%%time \n",
        "path_model = curr_folder + '/MyDrive/NN/Inspiration1/Inspiration1-12.h5'\n",
        "model = load_model(path_model)\n",
        "evaluate_model(model, val_dict, val_features, tokenizer, max_words)"
      ]
    },
    {
      "cell_type": "code",
      "execution_count": null,
      "metadata": {
        "id": "NWFcAs1919OY",
        "outputId": "10114ebf-9124-4821-febd-2d5bb6b9af15",
        "colab": {
          "base_uri": "https://localhost:8080/"
        }
      },
      "outputs": [
        {
          "output_type": "stream",
          "name": "stdout",
          "text": [
            "BLEU-1: 0.571155\n",
            "BLEU-2: 0.259261\n",
            "BLEU-3: 0.153889\n",
            "BLEU-4: 0.066470\n",
            "CPU times: user 8min 4s, sys: 10.2 s, total: 8min 14s\n",
            "Wall time: 7min 44s\n"
          ]
        }
      ],
      "source": [
        "%%time \n",
        "path_model = curr_folder + '/MyDrive/NN/Inspiration1/Inspiration1-13.h5'\n",
        "model = load_model(path_model)\n",
        "evaluate_model(model, val_dict, val_features, tokenizer, max_words)"
      ]
    },
    {
      "cell_type": "code",
      "execution_count": null,
      "metadata": {
        "id": "ZQbrmjFQ19OY",
        "outputId": "b10ed7e8-4c5a-4be7-df52-a3a95441b4ca",
        "colab": {
          "base_uri": "https://localhost:8080/"
        }
      },
      "outputs": [
        {
          "output_type": "stream",
          "name": "stdout",
          "text": [
            "BLEU-1: 0.569178\n",
            "BLEU-2: 0.258399\n",
            "BLEU-3: 0.154278\n",
            "BLEU-4: 0.065862\n",
            "CPU times: user 8min, sys: 10.3 s, total: 8min 11s\n",
            "Wall time: 7min 41s\n"
          ]
        }
      ],
      "source": [
        "%%time \n",
        "path_model = curr_folder + '/MyDrive/NN/Inspiration1/Inspiration1-14.h5'\n",
        "model = load_model(path_model)\n",
        "evaluate_model(model, val_dict, val_features, tokenizer, max_words)"
      ]
    },
    {
      "cell_type": "code",
      "execution_count": null,
      "metadata": {
        "id": "6-VFE9aM19OZ",
        "outputId": "64e215b9-ec6d-4611-a8cc-ae6ab5be4a12",
        "colab": {
          "base_uri": "https://localhost:8080/"
        }
      },
      "outputs": [
        {
          "output_type": "stream",
          "name": "stdout",
          "text": [
            "BLEU-1: 0.571094\n",
            "BLEU-2: 0.257536\n",
            "BLEU-3: 0.151733\n",
            "BLEU-4: 0.063091\n",
            "CPU times: user 7min 59s, sys: 9.85 s, total: 8min 8s\n",
            "Wall time: 7min 38s\n"
          ]
        }
      ],
      "source": [
        "%%time \n",
        "path_model = curr_folder + '/MyDrive/NN/Inspiration1/Inspiration1-15.h5'\n",
        "model = load_model(path_model)\n",
        "evaluate_model(model, val_dict, val_features, tokenizer, max_words)"
      ]
    },
    {
      "cell_type": "code",
      "execution_count": null,
      "metadata": {
        "id": "9piwXyDa19OZ",
        "outputId": "9c88fdf8-1654-4ef2-f403-bab55153ffc7",
        "colab": {
          "base_uri": "https://localhost:8080/"
        }
      },
      "outputs": [
        {
          "output_type": "stream",
          "name": "stdout",
          "text": [
            "BLEU-1: 0.559461\n",
            "BLEU-2: 0.250141\n",
            "BLEU-3: 0.149292\n",
            "BLEU-4: 0.062105\n",
            "CPU times: user 8min 24s, sys: 10.3 s, total: 8min 34s\n",
            "Wall time: 8min 3s\n"
          ]
        }
      ],
      "source": [
        "%%time \n",
        "path_model = curr_folder + '/MyDrive/NN/Inspiration1/Inspiration1-16.h5'\n",
        "model = load_model(path_model)\n",
        "evaluate_model(model, val_dict, val_features, tokenizer, max_words)"
      ]
    },
    {
      "cell_type": "code",
      "execution_count": null,
      "metadata": {
        "id": "jWCYCYbS19Oa",
        "outputId": "c54da7ce-c149-4d65-d5e9-4c17b73cc7d0",
        "colab": {
          "base_uri": "https://localhost:8080/"
        }
      },
      "outputs": [
        {
          "output_type": "stream",
          "name": "stdout",
          "text": [
            "BLEU-1: 0.535523\n",
            "BLEU-2: 0.243932\n",
            "BLEU-3: 0.149909\n",
            "BLEU-4: 0.063928\n",
            "CPU times: user 9min 5s, sys: 11.8 s, total: 9min 16s\n",
            "Wall time: 8min 42s\n"
          ]
        }
      ],
      "source": [
        "%%time \n",
        "path_model = curr_folder + '/MyDrive/NN/Inspiration1/Inspiration1-17.h5'\n",
        "model = load_model(path_model)\n",
        "evaluate_model(model, val_dict, val_features, tokenizer, max_words)"
      ]
    },
    {
      "cell_type": "code",
      "execution_count": null,
      "metadata": {
        "id": "Od4JvueT19Oa",
        "outputId": "60519486-9f33-44ba-9b0e-2f4bc6f75bdb",
        "colab": {
          "base_uri": "https://localhost:8080/"
        }
      },
      "outputs": [
        {
          "output_type": "stream",
          "name": "stdout",
          "text": [
            "BLEU-1: 0.584450\n",
            "BLEU-2: 0.272487\n",
            "BLEU-3: 0.167949\n",
            "BLEU-4: 0.074304\n",
            "CPU times: user 8min, sys: 10.4 s, total: 8min 11s\n",
            "Wall time: 7min 41s\n"
          ]
        }
      ],
      "source": [
        "%%time \n",
        "path_model = curr_folder + '/MyDrive/NN/Inspiration1/Inspiration1-18.h5'\n",
        "model = load_model(path_model)\n",
        "evaluate_model(model, val_dict, val_features, tokenizer, max_words)"
      ]
    },
    {
      "cell_type": "code",
      "execution_count": null,
      "metadata": {
        "id": "jSxwy6pz19Ob",
        "outputId": "82479d32-f2a9-428a-ed8b-5627e4d92fa7",
        "colab": {
          "base_uri": "https://localhost:8080/"
        }
      },
      "outputs": [
        {
          "output_type": "stream",
          "name": "stdout",
          "text": [
            "BLEU-1: 0.558483\n",
            "BLEU-2: 0.255677\n",
            "BLEU-3: 0.158967\n",
            "BLEU-4: 0.070888\n",
            "CPU times: user 8min 40s, sys: 11.1 s, total: 8min 51s\n",
            "Wall time: 8min 18s\n"
          ]
        }
      ],
      "source": [
        "%%time \n",
        "path_model = curr_folder + '/MyDrive/NN/Inspiration1/Inspiration1-19.h5'\n",
        "model = load_model(path_model)\n",
        "evaluate_model(model, val_dict, val_features, tokenizer, max_words)"
      ]
    },
    {
      "cell_type": "markdown",
      "source": [
        "## Оценка Inception-2"
      ],
      "metadata": {
        "collapsed": false,
        "pycharm": {
          "name": "#%% md\n"
        },
        "id": "QZVRnmnX19Ob"
      }
    },
    {
      "cell_type": "code",
      "execution_count": null,
      "outputs": [
        {
          "name": "stdout",
          "output_type": "stream",
          "text": [
            "BLEU-1: 0.143182\n",
            "BLEU-2: 0.059739\n",
            "BLEU-3: 0.041356\n",
            "BLEU-4: 0.009241\n",
            "Wall time: 2h 10min 37s\n"
          ]
        }
      ],
      "source": [
        "%%time\n",
        "path_model = 'D:/models/inception-2/model-0.h5'\n",
        "model = load_model(path_model)\n",
        "evaluate_model(model, val_dict, val_features, tokenizer, max_words)"
      ],
      "metadata": {
        "pycharm": {
          "name": "#%%\n"
        },
        "id": "dWYlypG-19Ob",
        "outputId": "812bca97-032e-4ca1-bc36-29feb47bb0b5"
      }
    },
    {
      "cell_type": "code",
      "execution_count": null,
      "outputs": [
        {
          "name": "stdout",
          "output_type": "stream",
          "text": [
            "BLEU-1: 0.404583\n",
            "BLEU-2: 0.192803\n",
            "BLEU-3: 0.136315\n",
            "BLEU-4: 0.055770\n",
            "Wall time: 1h 2min\n"
          ]
        }
      ],
      "source": [
        "%%time\n",
        "path_model = 'D:/models/inception-2/model-1.h5'\n",
        "model = load_model(path_model)\n",
        "evaluate_model(model, val_dict, val_features, tokenizer, max_words)"
      ],
      "metadata": {
        "pycharm": {
          "name": "#%%\n"
        },
        "id": "5cLaZ_Oq19Oc",
        "outputId": "11cd281b-c242-4015-fbfc-0d9e5a724333"
      }
    },
    {
      "cell_type": "code",
      "execution_count": null,
      "outputs": [
        {
          "name": "stdout",
          "output_type": "stream",
          "text": [
            "BLEU-1: 0.493209\n",
            "BLEU-2: 0.259008\n",
            "BLEU-3: 0.187620\n",
            "BLEU-4: 0.086226\n",
            "Wall time: 51min 12s\n"
          ]
        }
      ],
      "source": [
        "%%time\n",
        "path_model = 'D:/models/inception-2/model-2.h5'\n",
        "model = load_model(path_model)\n",
        "evaluate_model(model, val_dict, val_features, tokenizer, max_words)"
      ],
      "metadata": {
        "pycharm": {
          "name": "#%%\n"
        },
        "id": "sW0XwEui19Oc",
        "outputId": "4403b514-b037-4486-ea50-0dee57332f08"
      }
    },
    {
      "cell_type": "code",
      "execution_count": null,
      "outputs": [
        {
          "name": "stdout",
          "output_type": "stream",
          "text": [
            "BLEU-1: 0.510724\n",
            "BLEU-2: 0.280957\n",
            "BLEU-3: 0.207807\n",
            "BLEU-4: 0.101033\n",
            "Wall time: 53min 8s\n"
          ]
        }
      ],
      "source": [
        "%%time\n",
        "path_model = 'D:/models/inception-2/model-3.h5'\n",
        "model = load_model(path_model)\n",
        "evaluate_model(model, val_dict, val_features, tokenizer, max_words)"
      ],
      "metadata": {
        "pycharm": {
          "name": "#%%\n"
        },
        "id": "aJAxuQNL19Oc",
        "outputId": "9088c661-8277-4764-9d22-55a2832a2465"
      }
    },
    {
      "cell_type": "code",
      "execution_count": null,
      "outputs": [
        {
          "name": "stdout",
          "output_type": "stream",
          "text": [
            "BLEU-1: 0.506085\n",
            "BLEU-2: 0.274217\n",
            "BLEU-3: 0.202119\n",
            "BLEU-4: 0.098165\n",
            "Wall time: 48min 9s\n"
          ]
        }
      ],
      "source": [
        "%%time\n",
        "path_model = 'D:/models/inception-2/model-4.h5'\n",
        "model = load_model(path_model)\n",
        "evaluate_model(model, val_dict, val_features, tokenizer, max_words)"
      ],
      "metadata": {
        "pycharm": {
          "name": "#%%\n"
        },
        "id": "baIhtxML19Oc",
        "outputId": "ca81b4d3-36cc-4de3-984c-6a020e0cbb36"
      }
    },
    {
      "cell_type": "code",
      "execution_count": null,
      "outputs": [
        {
          "name": "stdout",
          "output_type": "stream",
          "text": [
            "BLEU-1: 0.513603\n",
            "BLEU-2: 0.282965\n",
            "BLEU-3: 0.209564\n",
            "BLEU-4: 0.104223\n",
            "Wall time: 51min 28s\n"
          ]
        }
      ],
      "source": [
        "%%time\n",
        "path_model = 'D:/models/inception-2/model-5.h5'\n",
        "model = load_model(path_model)\n",
        "evaluate_model(model, val_dict, val_features, tokenizer, max_words)"
      ],
      "metadata": {
        "pycharm": {
          "name": "#%%\n"
        },
        "id": "_37-uZ1319Oc",
        "outputId": "567b4340-6d53-46f3-8d6e-16d57f5a0515"
      }
    },
    {
      "cell_type": "code",
      "execution_count": null,
      "outputs": [
        {
          "name": "stdout",
          "output_type": "stream",
          "text": [
            "BLEU-1: 0.520624\n",
            "BLEU-2: 0.293764\n",
            "BLEU-3: 0.219084\n",
            "BLEU-4: 0.111367\n",
            "Wall time: 50min 17s\n"
          ]
        }
      ],
      "source": [
        "%%time\n",
        "path_model = 'D:/models/inception-2/model-6.h5'\n",
        "model = load_model(path_model)\n",
        "evaluate_model(model, val_dict, val_features, tokenizer, max_words)"
      ],
      "metadata": {
        "pycharm": {
          "name": "#%%\n"
        },
        "id": "finS3qTu19Od",
        "outputId": "70fe408b-6808-4385-9979-9096be575e58"
      }
    },
    {
      "cell_type": "code",
      "execution_count": null,
      "outputs": [
        {
          "name": "stdout",
          "output_type": "stream",
          "text": [
            "BLEU-1: 0.515529\n",
            "BLEU-2: 0.289828\n",
            "BLEU-3: 0.215429\n",
            "BLEU-4: 0.109241\n",
            "Wall time: 49min 32s\n"
          ]
        }
      ],
      "source": [
        "%%time\n",
        "path_model = 'D:/models/inception-2/model-7.h5'\n",
        "model = load_model(path_model)\n",
        "evaluate_model(model, val_dict, val_features, tokenizer, max_words)"
      ],
      "metadata": {
        "pycharm": {
          "name": "#%%\n"
        },
        "id": "0PKS8VxV19Od",
        "outputId": "321012da-9dfd-491b-c114-2913f479b506"
      }
    },
    {
      "cell_type": "code",
      "execution_count": null,
      "outputs": [
        {
          "name": "stdout",
          "output_type": "stream",
          "text": [
            "BLEU-1: 0.519564\n",
            "BLEU-2: 0.295451\n",
            "BLEU-3: 0.220886\n",
            "BLEU-4: 0.113214\n",
            "Wall time: 45min 9s\n"
          ]
        }
      ],
      "source": [
        "%%time\n",
        "path_model = 'D:/models/inception-2/model-8.h5'\n",
        "model = load_model(path_model)\n",
        "evaluate_model(model, val_dict, val_features, tokenizer, max_words)"
      ],
      "metadata": {
        "pycharm": {
          "name": "#%%\n"
        },
        "id": "7Akp4AZT19Od",
        "outputId": "f61b8827-0403-4afa-e56b-473d1e2d9c3e"
      }
    },
    {
      "cell_type": "code",
      "execution_count": null,
      "outputs": [
        {
          "name": "stdout",
          "output_type": "stream",
          "text": [
            "BLEU-1: 0.521632\n",
            "BLEU-2: 0.297048\n",
            "BLEU-3: 0.221886\n",
            "BLEU-4: 0.114537\n",
            "Wall time: 48min 3s\n"
          ]
        }
      ],
      "source": [
        "%%time\n",
        "path_model = 'D:/models/inception-2/model-9.h5'\n",
        "model = load_model(path_model)\n",
        "evaluate_model(model, val_dict, val_features, tokenizer, max_words)"
      ],
      "metadata": {
        "pycharm": {
          "name": "#%%\n"
        },
        "id": "6w42bvre19Od",
        "outputId": "91bf3231-22d5-4b4a-c529-29b7c9c61469"
      }
    },
    {
      "cell_type": "code",
      "execution_count": null,
      "outputs": [
        {
          "name": "stdout",
          "output_type": "stream",
          "text": [
            "BLEU-1: 0.511789\n",
            "BLEU-2: 0.286977\n",
            "BLEU-3: 0.212708\n",
            "BLEU-4: 0.106995\n",
            "Wall time: 51min 58s\n"
          ]
        }
      ],
      "source": [
        "%%time\n",
        "path_model = 'D:/models/inception-2/model-10.h5'\n",
        "model = load_model(path_model)\n",
        "evaluate_model(model, val_dict, val_features, tokenizer, max_words)"
      ],
      "metadata": {
        "pycharm": {
          "name": "#%%\n"
        },
        "id": "PxcIACEe19Od",
        "outputId": "cc22f398-2cb1-44c4-fc25-9a8d390a8ad9"
      }
    },
    {
      "cell_type": "code",
      "execution_count": null,
      "outputs": [
        {
          "name": "stdout",
          "output_type": "stream",
          "text": [
            "BLEU-1: 0.503644\n",
            "BLEU-2: 0.280418\n",
            "BLEU-3: 0.205865\n",
            "BLEU-4: 0.102691\n",
            "Wall time: 56min 10s\n"
          ]
        }
      ],
      "source": [
        "%%time\n",
        "path_model = 'D:/models/inception-2/model-11.h5'\n",
        "model = load_model(path_model)\n",
        "evaluate_model(model, val_dict, val_features, tokenizer, max_words)"
      ],
      "metadata": {
        "pycharm": {
          "name": "#%%\n"
        },
        "id": "hjBvO5aP19Oe",
        "outputId": "8404b1b6-5981-4933-989c-11d85b677e08"
      }
    },
    {
      "cell_type": "code",
      "execution_count": null,
      "outputs": [
        {
          "name": "stdout",
          "output_type": "stream",
          "text": [
            "BLEU-1: 0.497646\n",
            "BLEU-2: 0.277767\n",
            "BLEU-3: 0.205065\n",
            "BLEU-4: 0.101724\n",
            "Wall time: 55min 5s\n"
          ]
        }
      ],
      "source": [
        "%%time\n",
        "path_model = 'D:/models/inception-2/model-12.h5'\n",
        "model = load_model(path_model)\n",
        "evaluate_model(model, val_dict, val_features, tokenizer, max_words)"
      ],
      "metadata": {
        "pycharm": {
          "name": "#%%\n"
        },
        "id": "WMihlN-A19Oe",
        "outputId": "e66b79ff-2c1e-4034-d5ee-7934496d8f65"
      }
    },
    {
      "cell_type": "code",
      "execution_count": null,
      "outputs": [
        {
          "name": "stdout",
          "output_type": "stream",
          "text": [
            "BLEU-1: 0.491665\n",
            "BLEU-2: 0.274565\n",
            "BLEU-3: 0.201928\n",
            "BLEU-4: 0.098994\n",
            "Wall time: 54min 7s\n"
          ]
        }
      ],
      "source": [
        "%%time\n",
        "path_model = 'D:/models/inception-2/model-13.h5'\n",
        "model = load_model(path_model)\n",
        "evaluate_model(model, val_dict, val_features, tokenizer, max_words)"
      ],
      "metadata": {
        "pycharm": {
          "name": "#%%\n"
        },
        "id": "PDqCLv-619Oe",
        "outputId": "c7e7cedf-85e4-4e3c-ef6e-dd049034af68"
      }
    },
    {
      "cell_type": "code",
      "execution_count": null,
      "outputs": [
        {
          "name": "stdout",
          "output_type": "stream",
          "text": [
            "BLEU-1: 0.491949\n",
            "BLEU-2: 0.278453\n",
            "BLEU-3: 0.208454\n",
            "BLEU-4: 0.104314\n",
            "Wall time: 54min 45s\n"
          ]
        }
      ],
      "source": [
        "%%time\n",
        "path_model = 'D:/models/inception-2/model-14.h5'\n",
        "model = load_model(path_model)\n",
        "evaluate_model(model, val_dict, val_features, tokenizer, max_words)"
      ],
      "metadata": {
        "pycharm": {
          "name": "#%%\n"
        },
        "id": "jDHQEkBS19Oe",
        "outputId": "24480069-e0e5-4485-b499-d5afe64a0276"
      }
    },
    {
      "cell_type": "code",
      "execution_count": null,
      "outputs": [
        {
          "name": "stdout",
          "output_type": "stream",
          "text": [
            "BLEU-1: 0.497122\n",
            "BLEU-2: 0.279421\n",
            "BLEU-3: 0.208215\n",
            "BLEU-4: 0.105135\n",
            "Wall time: 54min 17s\n"
          ]
        }
      ],
      "source": [
        "%%time\n",
        "path_model = 'D:/models/inception-2/model-15.h5'\n",
        "model = load_model(path_model)\n",
        "evaluate_model(model, val_dict, val_features, tokenizer, max_words)"
      ],
      "metadata": {
        "pycharm": {
          "name": "#%%\n"
        },
        "id": "4bhIIAQg19Oe",
        "outputId": "350ea35c-002c-40ab-bbef-c19bac73fe79"
      }
    },
    {
      "cell_type": "code",
      "execution_count": null,
      "outputs": [
        {
          "name": "stdout",
          "output_type": "stream",
          "text": [
            "BLEU-1: 0.491076\n",
            "BLEU-2: 0.274560\n",
            "BLEU-3: 0.204636\n",
            "BLEU-4: 0.104065\n",
            "Wall time: 53min 2s\n"
          ]
        }
      ],
      "source": [
        "%%time\n",
        "path_model = 'D:/models/inception-2/model-16.h5'\n",
        "model = load_model(path_model)\n",
        "evaluate_model(model, val_dict, val_features, tokenizer, max_words)"
      ],
      "metadata": {
        "pycharm": {
          "name": "#%%\n"
        },
        "id": "uS_oqxXz19Oe",
        "outputId": "c7f06568-a66f-41f2-c716-642ac8de3654"
      }
    },
    {
      "cell_type": "code",
      "execution_count": null,
      "outputs": [
        {
          "name": "stdout",
          "output_type": "stream",
          "text": [
            "BLEU-1: 0.486741\n",
            "BLEU-2: 0.273443\n",
            "BLEU-3: 0.203743\n",
            "BLEU-4: 0.102320\n",
            "Wall time: 53min 43s\n"
          ]
        }
      ],
      "source": [
        "%%time\n",
        "path_model = 'D:/models/inception-2/model-17.h5'\n",
        "model = load_model(path_model)\n",
        "evaluate_model(model, val_dict, val_features, tokenizer, max_words)"
      ],
      "metadata": {
        "pycharm": {
          "name": "#%%\n"
        },
        "id": "tBgNh6zn19Of",
        "outputId": "7177d872-c365-4240-b6b1-894ac75db931"
      }
    },
    {
      "cell_type": "code",
      "execution_count": null,
      "outputs": [
        {
          "name": "stdout",
          "output_type": "stream",
          "text": [
            "BLEU-1: 0.490434\n",
            "BLEU-2: 0.273504\n",
            "BLEU-3: 0.202311\n",
            "BLEU-4: 0.101990\n",
            "Wall time: 52min 3s\n"
          ]
        }
      ],
      "source": [
        "%%time\n",
        "path_model = 'D:/models/inception-2/model-18.h5'\n",
        "model = load_model(path_model)\n",
        "evaluate_model(model, val_dict, val_features, tokenizer, max_words)"
      ],
      "metadata": {
        "pycharm": {
          "name": "#%%\n"
        },
        "id": "ZkId9YYl19Of",
        "outputId": "2d3156b8-e367-4496-cc05-be23bf7ea0e1"
      }
    },
    {
      "cell_type": "code",
      "execution_count": null,
      "outputs": [
        {
          "name": "stdout",
          "output_type": "stream",
          "text": [
            "BLEU-1: 0.490287\n",
            "BLEU-2: 0.274459\n",
            "BLEU-3: 0.204949\n",
            "BLEU-4: 0.105633\n",
            "Wall time: 54min 12s\n"
          ]
        }
      ],
      "source": [
        "%%time\n",
        "path_model = 'D:/models/inception-2/model-19.h5'\n",
        "model = load_model(path_model)\n",
        "evaluate_model(model, val_dict, val_features, tokenizer, max_words)"
      ],
      "metadata": {
        "pycharm": {
          "name": "#%%\n"
        },
        "id": "0GsQe4ew19Of",
        "outputId": "90c9dcdf-d20b-482e-bc6d-05efaa8e6e0b"
      }
    }
  ],
  "metadata": {
    "kernelspec": {
      "display_name": "Python 3",
      "language": "python",
      "name": "python3"
    },
    "language_info": {
      "codemirror_mode": {
        "name": "ipython",
        "version": 3
      },
      "file_extension": ".py",
      "mimetype": "text/x-python",
      "name": "python",
      "nbconvert_exporter": "python",
      "pygments_lexer": "ipython3",
      "version": "3.8.8"
    },
    "colab": {
      "name": "evaluation.ipynb",
      "provenance": []
    }
  },
  "nbformat": 4,
  "nbformat_minor": 0
}