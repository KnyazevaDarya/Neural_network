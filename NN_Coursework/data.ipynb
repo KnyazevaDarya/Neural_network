{
  "cells": [
    {
      "cell_type": "code",
      "execution_count": null,
      "metadata": {
        "id": "wACLpKrotpNN"
      },
      "outputs": [],
      "source": [
        "import os\n",
        "import shutil\n",
        "import pickle\n",
        "import string\n",
        "import pandas as pd\n",
        "from google.colab import drive"
      ]
    },
    {
      "cell_type": "code",
      "execution_count": null,
      "metadata": {
        "colab": {
          "base_uri": "https://localhost:8080/"
        },
        "id": "9_se2HiAtpNU",
        "outputId": "326ff936-c7da-4cce-e9d1-786f09d23b5d"
      },
      "outputs": [
        {
          "name": "stdout",
          "output_type": "stream",
          "text": [
            "Mounted at /content/drive\n"
          ]
        }
      ],
      "source": [
        "\n",
        "curr_folder = '/content/drive'\n",
        "drive.mount(curr_folder)\n",
        "\n",
        "\n",
        "start_dir = curr_folder + '/MyDrive/NN/Pictures/'\n",
        "end_dir = curr_folder + '/MyDrive/NN/End/'\n",
        "\n",
        "path_captions = curr_folder + '/MyDrive/NN/russiancap.csv'\n",
        "path_captions_no_puncts = curr_folder + '/MyDrive/NN/nopunctsrussiancap.csv'\n",
        "\n",
        "path_train = curr_folder + '/MyDrive/NN/train.csv'\n",
        "path_val = curr_folder + '/MyDrive/NN/validation.csv'\n",
        "path_test = curr_folder + '/MyDrive/NN/test.csv'\n",
        "\n",
        "path_features = curr_folder + '/MyDrive/NN/features.pkl'\n",
        "path_vocab = curr_folder + '/MyDrive/NN/vocab.pkl'\n",
        "path_sentences = curr_folder + '/MyDrive/NN/sentences.pkl'\n",
        "\n",
        "path_train_dict = curr_folder + '/MyDrive/NN/train_dict.pkl'\n",
        "path_val_dict = curr_folder + '/MyDrive/NN/val_dict.pkl'\n"
      ]
    },
    {
      "cell_type": "markdown",
      "metadata": {
        "collapsed": false,
        "id": "UCfJ1dWKtpNV"
      },
      "source": [
        "# Удалить длинные предложения"
      ]
    },
    {
      "cell_type": "code",
      "execution_count": null,
      "metadata": {
        "id": "Uo-4-ZjUtpNY"
      },
      "outputs": [],
      "source": [
        "df = pd.read_csv(path_captions, sep='|')"
      ]
    },
    {
      "cell_type": "code",
      "execution_count": null,
      "metadata": {
        "colab": {
          "base_uri": "https://localhost:8080/",
          "height": 206
        },
        "id": "BqWiJ15PyXI9",
        "outputId": "a1b93c2d-a0e5-4196-d2da-f7a35630b286"
      },
      "outputs": [
        {
          "data": {
            "text/html": [
              "\n",
              "  <div id=\"df-554b9cc3-6d44-4f12-b73d-7762e08b5fb0\">\n",
              "    <div class=\"colab-df-container\">\n",
              "      <div>\n",
              "<style scoped>\n",
              "    .dataframe tbody tr th:only-of-type {\n",
              "        vertical-align: middle;\n",
              "    }\n",
              "\n",
              "    .dataframe tbody tr th {\n",
              "        vertical-align: top;\n",
              "    }\n",
              "\n",
              "    .dataframe thead th {\n",
              "        text-align: right;\n",
              "    }\n",
              "</style>\n",
              "<table border=\"1\" class=\"dataframe\">\n",
              "  <thead>\n",
              "    <tr style=\"text-align: right;\">\n",
              "      <th></th>\n",
              "      <th>image_name</th>\n",
              "      <th>comment_number</th>\n",
              "      <th>comment</th>\n",
              "    </tr>\n",
              "  </thead>\n",
              "  <tbody>\n",
              "    <tr>\n",
              "      <th>0</th>\n",
              "      <td>1.jpg</td>\n",
              "      <td>0.0</td>\n",
              "      <td>Двое детей гуляют по деревне.</td>\n",
              "    </tr>\n",
              "    <tr>\n",
              "      <th>1</th>\n",
              "      <td>1.jpg</td>\n",
              "      <td>1.0</td>\n",
              "      <td>Двое детей гуляют по деревне.</td>\n",
              "    </tr>\n",
              "    <tr>\n",
              "      <th>2</th>\n",
              "      <td>1.jpg</td>\n",
              "      <td>2.0</td>\n",
              "      <td>Ребенок в синей рубашке.</td>\n",
              "    </tr>\n",
              "    <tr>\n",
              "      <th>3</th>\n",
              "      <td>1.jpg</td>\n",
              "      <td>3.0</td>\n",
              "      <td>Двое детей играют.</td>\n",
              "    </tr>\n",
              "    <tr>\n",
              "      <th>4</th>\n",
              "      <td>1.jpg</td>\n",
              "      <td>4.0</td>\n",
              "      <td>Стоят двое детей.</td>\n",
              "    </tr>\n",
              "  </tbody>\n",
              "</table>\n",
              "</div>\n",
              "      <button class=\"colab-df-convert\" onclick=\"convertToInteractive('df-554b9cc3-6d44-4f12-b73d-7762e08b5fb0')\"\n",
              "              title=\"Convert this dataframe to an interactive table.\"\n",
              "              style=\"display:none;\">\n",
              "        \n",
              "  <svg xmlns=\"http://www.w3.org/2000/svg\" height=\"24px\"viewBox=\"0 0 24 24\"\n",
              "       width=\"24px\">\n",
              "    <path d=\"M0 0h24v24H0V0z\" fill=\"none\"/>\n",
              "    <path d=\"M18.56 5.44l.94 2.06.94-2.06 2.06-.94-2.06-.94-.94-2.06-.94 2.06-2.06.94zm-11 1L8.5 8.5l.94-2.06 2.06-.94-2.06-.94L8.5 2.5l-.94 2.06-2.06.94zm10 10l.94 2.06.94-2.06 2.06-.94-2.06-.94-.94-2.06-.94 2.06-2.06.94z\"/><path d=\"M17.41 7.96l-1.37-1.37c-.4-.4-.92-.59-1.43-.59-.52 0-1.04.2-1.43.59L10.3 9.45l-7.72 7.72c-.78.78-.78 2.05 0 2.83L4 21.41c.39.39.9.59 1.41.59.51 0 1.02-.2 1.41-.59l7.78-7.78 2.81-2.81c.8-.78.8-2.07 0-2.86zM5.41 20L4 18.59l7.72-7.72 1.47 1.35L5.41 20z\"/>\n",
              "  </svg>\n",
              "      </button>\n",
              "      \n",
              "  <style>\n",
              "    .colab-df-container {\n",
              "      display:flex;\n",
              "      flex-wrap:wrap;\n",
              "      gap: 12px;\n",
              "    }\n",
              "\n",
              "    .colab-df-convert {\n",
              "      background-color: #E8F0FE;\n",
              "      border: none;\n",
              "      border-radius: 50%;\n",
              "      cursor: pointer;\n",
              "      display: none;\n",
              "      fill: #1967D2;\n",
              "      height: 32px;\n",
              "      padding: 0 0 0 0;\n",
              "      width: 32px;\n",
              "    }\n",
              "\n",
              "    .colab-df-convert:hover {\n",
              "      background-color: #E2EBFA;\n",
              "      box-shadow: 0px 1px 2px rgba(60, 64, 67, 0.3), 0px 1px 3px 1px rgba(60, 64, 67, 0.15);\n",
              "      fill: #174EA6;\n",
              "    }\n",
              "\n",
              "    [theme=dark] .colab-df-convert {\n",
              "      background-color: #3B4455;\n",
              "      fill: #D2E3FC;\n",
              "    }\n",
              "\n",
              "    [theme=dark] .colab-df-convert:hover {\n",
              "      background-color: #434B5C;\n",
              "      box-shadow: 0px 1px 3px 1px rgba(0, 0, 0, 0.15);\n",
              "      filter: drop-shadow(0px 1px 2px rgba(0, 0, 0, 0.3));\n",
              "      fill: #FFFFFF;\n",
              "    }\n",
              "  </style>\n",
              "\n",
              "      <script>\n",
              "        const buttonEl =\n",
              "          document.querySelector('#df-554b9cc3-6d44-4f12-b73d-7762e08b5fb0 button.colab-df-convert');\n",
              "        buttonEl.style.display =\n",
              "          google.colab.kernel.accessAllowed ? 'block' : 'none';\n",
              "\n",
              "        async function convertToInteractive(key) {\n",
              "          const element = document.querySelector('#df-554b9cc3-6d44-4f12-b73d-7762e08b5fb0');\n",
              "          const dataTable =\n",
              "            await google.colab.kernel.invokeFunction('convertToInteractive',\n",
              "                                                     [key], {});\n",
              "          if (!dataTable) return;\n",
              "\n",
              "          const docLinkHtml = 'Like what you see? Visit the ' +\n",
              "            '<a target=\"_blank\" href=https://colab.research.google.com/notebooks/data_table.ipynb>data table notebook</a>'\n",
              "            + ' to learn more about interactive tables.';\n",
              "          element.innerHTML = '';\n",
              "          dataTable['output_type'] = 'display_data';\n",
              "          await google.colab.output.renderOutput(dataTable, element);\n",
              "          const docLink = document.createElement('div');\n",
              "          docLink.innerHTML = docLinkHtml;\n",
              "          element.appendChild(docLink);\n",
              "        }\n",
              "      </script>\n",
              "    </div>\n",
              "  </div>\n",
              "  "
            ],
            "text/plain": [
              "  image_name  comment_number                        comment\n",
              "0      1.jpg             0.0  Двое детей гуляют по деревне.\n",
              "1      1.jpg             1.0  Двое детей гуляют по деревне.\n",
              "2      1.jpg             2.0       Ребенок в синей рубашке.\n",
              "3      1.jpg             3.0             Двое детей играют.\n",
              "4      1.jpg             4.0              Стоят двое детей."
            ]
          },
          "execution_count": 5,
          "metadata": {},
          "output_type": "execute_result"
        }
      ],
      "source": [
        "df.head()"
      ]
    },
    {
      "cell_type": "code",
      "execution_count": null,
      "metadata": {
        "colab": {
          "base_uri": "https://localhost:8080/",
          "height": 36
        },
        "id": "b2fTmZFwyx_S",
        "outputId": "0293c661-db70-4fd3-8246-6db36f05b27b"
      },
      "outputs": [
        {
          "data": {
            "application/vnd.google.colaboratory.intrinsic+json": {
              "type": "string"
            },
            "text/plain": [
              "'Двое детей гуляют по деревне.'"
            ]
          },
          "execution_count": 6,
          "metadata": {},
          "output_type": "execute_result"
        }
      ],
      "source": [
        "df.iat[0,2]"
      ]
    },
    {
      "cell_type": "code",
      "execution_count": null,
      "metadata": {
        "id": "RFBmTU01tpNZ"
      },
      "outputs": [],
      "source": [
        "idxs_to_del = []\n",
        "\n",
        "for idx in df.index:\n",
        "    curr_len = len(str(df.iat[idx, 2]))\n",
        "    if curr_len > 100 or curr_len==0 or str(df.iat[idx, 2])==None:\n",
        "        idxs_to_del.append(idx)\n",
        "\n",
        "df_to_delete = df.loc[idxs_to_del, :]\n",
        "images_to_delete = df_to_delete[\"image_name\"].unique()"
      ]
    },
    {
      "cell_type": "code",
      "execution_count": null,
      "metadata": {
        "colab": {
          "base_uri": "https://localhost:8080/"
        },
        "id": "00VuCyratpNZ",
        "outputId": "3e2a4b5e-33c3-4706-98e9-fa0330d00d71"
      },
      "outputs": [
        {
          "name": "stdout",
          "output_type": "stream",
          "text": [
            "(39105, 3)\n",
            "(37717, 3)\n"
          ]
        }
      ],
      "source": [
        "print(df.shape)\n",
        "df = df[~df.image_name.isin(images_to_delete)]\n",
        "print(df.shape)"
      ]
    },
    {
      "cell_type": "markdown",
      "metadata": {
        "collapsed": false,
        "id": "SfduRYc2tpNb"
      },
      "source": [
        "# Подготовка данных к обучению\n",
        "\n",
        "– Каждое слово с маленькой буквы\n",
        "– Удалить знаки препинания\n",
        "– Только буквы"
      ]
    },
    {
      "cell_type": "code",
      "execution_count": null,
      "metadata": {
        "id": "_P7D2svxtpNc"
      },
      "outputs": [],
      "source": [
        "def clean_captions(data):\n",
        "    table = str.maketrans('', '', string.punctuation)\n",
        "\n",
        "    for idx in data.index:\n",
        "        curr_capt = str(data.iat[idx, 2])\n",
        "        curr_capt = curr_capt.split()\n",
        "        curr_capt = [word.lower() for word in curr_capt]\n",
        "        curr_capt = [word.translate(table) for word in curr_capt]\n",
        "        curr_capt = [word for word in curr_capt if word.isalpha()]\n",
        "\n",
        "        data.iat[idx, 2] = ' '.join(curr_capt)"
      ]
    },
    {
      "cell_type": "code",
      "execution_count": null,
      "metadata": {
        "colab": {
          "base_uri": "https://localhost:8080/",
          "height": 206
        },
        "id": "I5PjyKtftpNd",
        "outputId": "14eb3ea0-4220-410f-9b00-dffc41d1da78"
      },
      "outputs": [
        {
          "data": {
            "text/html": [
              "\n",
              "  <div id=\"df-9836d88c-f6fb-4a91-b587-1855bd55e6ce\">\n",
              "    <div class=\"colab-df-container\">\n",
              "      <div>\n",
              "<style scoped>\n",
              "    .dataframe tbody tr th:only-of-type {\n",
              "        vertical-align: middle;\n",
              "    }\n",
              "\n",
              "    .dataframe tbody tr th {\n",
              "        vertical-align: top;\n",
              "    }\n",
              "\n",
              "    .dataframe thead th {\n",
              "        text-align: right;\n",
              "    }\n",
              "</style>\n",
              "<table border=\"1\" class=\"dataframe\">\n",
              "  <thead>\n",
              "    <tr style=\"text-align: right;\">\n",
              "      <th></th>\n",
              "      <th>image_name</th>\n",
              "      <th>comment_number</th>\n",
              "      <th>comment</th>\n",
              "    </tr>\n",
              "  </thead>\n",
              "  <tbody>\n",
              "    <tr>\n",
              "      <th>0</th>\n",
              "      <td>1.jpg</td>\n",
              "      <td>0.0</td>\n",
              "      <td>Двое детей гуляют по деревне.</td>\n",
              "    </tr>\n",
              "    <tr>\n",
              "      <th>1</th>\n",
              "      <td>1.jpg</td>\n",
              "      <td>1.0</td>\n",
              "      <td>Двое детей гуляют по деревне.</td>\n",
              "    </tr>\n",
              "    <tr>\n",
              "      <th>2</th>\n",
              "      <td>1.jpg</td>\n",
              "      <td>2.0</td>\n",
              "      <td>Ребенок в синей рубашке.</td>\n",
              "    </tr>\n",
              "    <tr>\n",
              "      <th>3</th>\n",
              "      <td>1.jpg</td>\n",
              "      <td>3.0</td>\n",
              "      <td>Двое детей играют.</td>\n",
              "    </tr>\n",
              "    <tr>\n",
              "      <th>4</th>\n",
              "      <td>1.jpg</td>\n",
              "      <td>4.0</td>\n",
              "      <td>Стоят двое детей.</td>\n",
              "    </tr>\n",
              "  </tbody>\n",
              "</table>\n",
              "</div>\n",
              "      <button class=\"colab-df-convert\" onclick=\"convertToInteractive('df-9836d88c-f6fb-4a91-b587-1855bd55e6ce')\"\n",
              "              title=\"Convert this dataframe to an interactive table.\"\n",
              "              style=\"display:none;\">\n",
              "        \n",
              "  <svg xmlns=\"http://www.w3.org/2000/svg\" height=\"24px\"viewBox=\"0 0 24 24\"\n",
              "       width=\"24px\">\n",
              "    <path d=\"M0 0h24v24H0V0z\" fill=\"none\"/>\n",
              "    <path d=\"M18.56 5.44l.94 2.06.94-2.06 2.06-.94-2.06-.94-.94-2.06-.94 2.06-2.06.94zm-11 1L8.5 8.5l.94-2.06 2.06-.94-2.06-.94L8.5 2.5l-.94 2.06-2.06.94zm10 10l.94 2.06.94-2.06 2.06-.94-2.06-.94-.94-2.06-.94 2.06-2.06.94z\"/><path d=\"M17.41 7.96l-1.37-1.37c-.4-.4-.92-.59-1.43-.59-.52 0-1.04.2-1.43.59L10.3 9.45l-7.72 7.72c-.78.78-.78 2.05 0 2.83L4 21.41c.39.39.9.59 1.41.59.51 0 1.02-.2 1.41-.59l7.78-7.78 2.81-2.81c.8-.78.8-2.07 0-2.86zM5.41 20L4 18.59l7.72-7.72 1.47 1.35L5.41 20z\"/>\n",
              "  </svg>\n",
              "      </button>\n",
              "      \n",
              "  <style>\n",
              "    .colab-df-container {\n",
              "      display:flex;\n",
              "      flex-wrap:wrap;\n",
              "      gap: 12px;\n",
              "    }\n",
              "\n",
              "    .colab-df-convert {\n",
              "      background-color: #E8F0FE;\n",
              "      border: none;\n",
              "      border-radius: 50%;\n",
              "      cursor: pointer;\n",
              "      display: none;\n",
              "      fill: #1967D2;\n",
              "      height: 32px;\n",
              "      padding: 0 0 0 0;\n",
              "      width: 32px;\n",
              "    }\n",
              "\n",
              "    .colab-df-convert:hover {\n",
              "      background-color: #E2EBFA;\n",
              "      box-shadow: 0px 1px 2px rgba(60, 64, 67, 0.3), 0px 1px 3px 1px rgba(60, 64, 67, 0.15);\n",
              "      fill: #174EA6;\n",
              "    }\n",
              "\n",
              "    [theme=dark] .colab-df-convert {\n",
              "      background-color: #3B4455;\n",
              "      fill: #D2E3FC;\n",
              "    }\n",
              "\n",
              "    [theme=dark] .colab-df-convert:hover {\n",
              "      background-color: #434B5C;\n",
              "      box-shadow: 0px 1px 3px 1px rgba(0, 0, 0, 0.15);\n",
              "      filter: drop-shadow(0px 1px 2px rgba(0, 0, 0, 0.3));\n",
              "      fill: #FFFFFF;\n",
              "    }\n",
              "  </style>\n",
              "\n",
              "      <script>\n",
              "        const buttonEl =\n",
              "          document.querySelector('#df-9836d88c-f6fb-4a91-b587-1855bd55e6ce button.colab-df-convert');\n",
              "        buttonEl.style.display =\n",
              "          google.colab.kernel.accessAllowed ? 'block' : 'none';\n",
              "\n",
              "        async function convertToInteractive(key) {\n",
              "          const element = document.querySelector('#df-9836d88c-f6fb-4a91-b587-1855bd55e6ce');\n",
              "          const dataTable =\n",
              "            await google.colab.kernel.invokeFunction('convertToInteractive',\n",
              "                                                     [key], {});\n",
              "          if (!dataTable) return;\n",
              "\n",
              "          const docLinkHtml = 'Like what you see? Visit the ' +\n",
              "            '<a target=\"_blank\" href=https://colab.research.google.com/notebooks/data_table.ipynb>data table notebook</a>'\n",
              "            + ' to learn more about interactive tables.';\n",
              "          element.innerHTML = '';\n",
              "          dataTable['output_type'] = 'display_data';\n",
              "          await google.colab.output.renderOutput(dataTable, element);\n",
              "          const docLink = document.createElement('div');\n",
              "          docLink.innerHTML = docLinkHtml;\n",
              "          element.appendChild(docLink);\n",
              "        }\n",
              "      </script>\n",
              "    </div>\n",
              "  </div>\n",
              "  "
            ],
            "text/plain": [
              "  image_name  comment_number                        comment\n",
              "0      1.jpg             0.0  Двое детей гуляют по деревне.\n",
              "1      1.jpg             1.0  Двое детей гуляют по деревне.\n",
              "2      1.jpg             2.0       Ребенок в синей рубашке.\n",
              "3      1.jpg             3.0             Двое детей играют.\n",
              "4      1.jpg             4.0              Стоят двое детей."
            ]
          },
          "execution_count": 10,
          "metadata": {},
          "output_type": "execute_result"
        }
      ],
      "source": [
        "df = pd.read_csv(path_captions, delimiter='|')\n",
        "df.head(5)"
      ]
    },
    {
      "cell_type": "code",
      "execution_count": null,
      "metadata": {
        "colab": {
          "base_uri": "https://localhost:8080/",
          "height": 206
        },
        "id": "4M5VHt3ItpNd",
        "outputId": "df872ac6-3e25-424d-feb7-8d46781d8893"
      },
      "outputs": [
        {
          "data": {
            "text/html": [
              "\n",
              "  <div id=\"df-51ceb25a-ee0e-4876-b36d-7e107bcbd716\">\n",
              "    <div class=\"colab-df-container\">\n",
              "      <div>\n",
              "<style scoped>\n",
              "    .dataframe tbody tr th:only-of-type {\n",
              "        vertical-align: middle;\n",
              "    }\n",
              "\n",
              "    .dataframe tbody tr th {\n",
              "        vertical-align: top;\n",
              "    }\n",
              "\n",
              "    .dataframe thead th {\n",
              "        text-align: right;\n",
              "    }\n",
              "</style>\n",
              "<table border=\"1\" class=\"dataframe\">\n",
              "  <thead>\n",
              "    <tr style=\"text-align: right;\">\n",
              "      <th></th>\n",
              "      <th>image_name</th>\n",
              "      <th>comment_number</th>\n",
              "      <th>comment</th>\n",
              "    </tr>\n",
              "  </thead>\n",
              "  <tbody>\n",
              "    <tr>\n",
              "      <th>0</th>\n",
              "      <td>1.jpg</td>\n",
              "      <td>0.0</td>\n",
              "      <td>двое детей гуляют по деревне</td>\n",
              "    </tr>\n",
              "    <tr>\n",
              "      <th>1</th>\n",
              "      <td>1.jpg</td>\n",
              "      <td>1.0</td>\n",
              "      <td>двое детей гуляют по деревне</td>\n",
              "    </tr>\n",
              "    <tr>\n",
              "      <th>2</th>\n",
              "      <td>1.jpg</td>\n",
              "      <td>2.0</td>\n",
              "      <td>ребенок в синей рубашке</td>\n",
              "    </tr>\n",
              "    <tr>\n",
              "      <th>3</th>\n",
              "      <td>1.jpg</td>\n",
              "      <td>3.0</td>\n",
              "      <td>двое детей играют</td>\n",
              "    </tr>\n",
              "    <tr>\n",
              "      <th>4</th>\n",
              "      <td>1.jpg</td>\n",
              "      <td>4.0</td>\n",
              "      <td>стоят двое детей</td>\n",
              "    </tr>\n",
              "  </tbody>\n",
              "</table>\n",
              "</div>\n",
              "      <button class=\"colab-df-convert\" onclick=\"convertToInteractive('df-51ceb25a-ee0e-4876-b36d-7e107bcbd716')\"\n",
              "              title=\"Convert this dataframe to an interactive table.\"\n",
              "              style=\"display:none;\">\n",
              "        \n",
              "  <svg xmlns=\"http://www.w3.org/2000/svg\" height=\"24px\"viewBox=\"0 0 24 24\"\n",
              "       width=\"24px\">\n",
              "    <path d=\"M0 0h24v24H0V0z\" fill=\"none\"/>\n",
              "    <path d=\"M18.56 5.44l.94 2.06.94-2.06 2.06-.94-2.06-.94-.94-2.06-.94 2.06-2.06.94zm-11 1L8.5 8.5l.94-2.06 2.06-.94-2.06-.94L8.5 2.5l-.94 2.06-2.06.94zm10 10l.94 2.06.94-2.06 2.06-.94-2.06-.94-.94-2.06-.94 2.06-2.06.94z\"/><path d=\"M17.41 7.96l-1.37-1.37c-.4-.4-.92-.59-1.43-.59-.52 0-1.04.2-1.43.59L10.3 9.45l-7.72 7.72c-.78.78-.78 2.05 0 2.83L4 21.41c.39.39.9.59 1.41.59.51 0 1.02-.2 1.41-.59l7.78-7.78 2.81-2.81c.8-.78.8-2.07 0-2.86zM5.41 20L4 18.59l7.72-7.72 1.47 1.35L5.41 20z\"/>\n",
              "  </svg>\n",
              "      </button>\n",
              "      \n",
              "  <style>\n",
              "    .colab-df-container {\n",
              "      display:flex;\n",
              "      flex-wrap:wrap;\n",
              "      gap: 12px;\n",
              "    }\n",
              "\n",
              "    .colab-df-convert {\n",
              "      background-color: #E8F0FE;\n",
              "      border: none;\n",
              "      border-radius: 50%;\n",
              "      cursor: pointer;\n",
              "      display: none;\n",
              "      fill: #1967D2;\n",
              "      height: 32px;\n",
              "      padding: 0 0 0 0;\n",
              "      width: 32px;\n",
              "    }\n",
              "\n",
              "    .colab-df-convert:hover {\n",
              "      background-color: #E2EBFA;\n",
              "      box-shadow: 0px 1px 2px rgba(60, 64, 67, 0.3), 0px 1px 3px 1px rgba(60, 64, 67, 0.15);\n",
              "      fill: #174EA6;\n",
              "    }\n",
              "\n",
              "    [theme=dark] .colab-df-convert {\n",
              "      background-color: #3B4455;\n",
              "      fill: #D2E3FC;\n",
              "    }\n",
              "\n",
              "    [theme=dark] .colab-df-convert:hover {\n",
              "      background-color: #434B5C;\n",
              "      box-shadow: 0px 1px 3px 1px rgba(0, 0, 0, 0.15);\n",
              "      filter: drop-shadow(0px 1px 2px rgba(0, 0, 0, 0.3));\n",
              "      fill: #FFFFFF;\n",
              "    }\n",
              "  </style>\n",
              "\n",
              "      <script>\n",
              "        const buttonEl =\n",
              "          document.querySelector('#df-51ceb25a-ee0e-4876-b36d-7e107bcbd716 button.colab-df-convert');\n",
              "        buttonEl.style.display =\n",
              "          google.colab.kernel.accessAllowed ? 'block' : 'none';\n",
              "\n",
              "        async function convertToInteractive(key) {\n",
              "          const element = document.querySelector('#df-51ceb25a-ee0e-4876-b36d-7e107bcbd716');\n",
              "          const dataTable =\n",
              "            await google.colab.kernel.invokeFunction('convertToInteractive',\n",
              "                                                     [key], {});\n",
              "          if (!dataTable) return;\n",
              "\n",
              "          const docLinkHtml = 'Like what you see? Visit the ' +\n",
              "            '<a target=\"_blank\" href=https://colab.research.google.com/notebooks/data_table.ipynb>data table notebook</a>'\n",
              "            + ' to learn more about interactive tables.';\n",
              "          element.innerHTML = '';\n",
              "          dataTable['output_type'] = 'display_data';\n",
              "          await google.colab.output.renderOutput(dataTable, element);\n",
              "          const docLink = document.createElement('div');\n",
              "          docLink.innerHTML = docLinkHtml;\n",
              "          element.appendChild(docLink);\n",
              "        }\n",
              "      </script>\n",
              "    </div>\n",
              "  </div>\n",
              "  "
            ],
            "text/plain": [
              "  image_name  comment_number                       comment\n",
              "0      1.jpg             0.0  двое детей гуляют по деревне\n",
              "1      1.jpg             1.0  двое детей гуляют по деревне\n",
              "2      1.jpg             2.0       ребенок в синей рубашке\n",
              "3      1.jpg             3.0             двое детей играют\n",
              "4      1.jpg             4.0              стоят двое детей"
            ]
          },
          "execution_count": 11,
          "metadata": {},
          "output_type": "execute_result"
        }
      ],
      "source": [
        "clean_captions(df)\n",
        "df.head()"
      ]
    },
    {
      "cell_type": "code",
      "execution_count": null,
      "metadata": {
        "id": "SU0NST_W4sq3"
      },
      "outputs": [],
      "source": [
        "df.to_csv(path_captions_no_puncts, sep='|', encoding='utf-8', index=False)"
      ]
    },
    {
      "cell_type": "code",
      "execution_count": null,
      "metadata": {
        "colab": {
          "base_uri": "https://localhost:8080/"
        },
        "id": "rPt_eNZlvrax",
        "outputId": "a892ca72-f65c-4f78-e9a6-937e7b0376ed"
      },
      "outputs": [
        {
          "name": "stdout",
          "output_type": "stream",
          "text": [
            "размер словаря ... 12471\n"
          ]
        }
      ],
      "source": [
        "#%% md\n",
        "# Словарь\n",
        "#%%\n",
        "def to_vocab(data):\n",
        "  vocab = set()\n",
        "  for idx in data.index:\n",
        "    vocab.update(str(data.iat[idx, 2]).split())\n",
        "  return vocab\n",
        "#%%\n",
        "df = pd.read_csv(path_captions_no_puncts, sep='|')\n",
        "vocab = to_vocab(df)\n",
        "print('размер словаря ... %d' % len(vocab))\n",
        "#%%\n",
        "with open(path_vocab,'wb') as f:\n",
        "  pickle.dump(vocab, f)\n",
        "#%%\n",
        "with open(path_vocab,'rb') as f:\n",
        "  loaded_vocab = pickle.load(f)\n",
        "#%% md\n",
        "# Разбить набор на три части"
      ]
    },
    {
      "cell_type": "code",
      "execution_count": null,
      "metadata": {
        "id": "GwuhaAnGKSjc"
      },
      "outputs": [],
      "source": [
        "# Features\n",
        "\n",
        "def to_features(data):\n",
        "  features = dict()\n",
        "  start_index = 0\n",
        "  end_index = len(data) - 1 - 5\n",
        "  for idx in range(start_index, end_index+1, 5):\n",
        "    image_name = str(data.iat[idx, 0])[:-4]\n",
        "    curr_list = list()\n",
        "    curr_list.append(data.iat[idx, 2])\n",
        "    curr_list.append(data.iat[idx+1, 2])\n",
        "    curr_list.append(data.iat[idx+2, 2])\n",
        "    curr_list.append(data.iat[idx+3, 2])\n",
        "    curr_list.append(data.iat[idx+4, 2])\n",
        "    words = list()\n",
        "    for sent in curr_list:\n",
        "      for word in str(sent).split():\n",
        "        words.append(word)\n",
        "    features[image_name] = ' '.join(set(words))\n",
        "  return features"
      ]
    },
    {
      "cell_type": "code",
      "execution_count": null,
      "metadata": {
        "id": "DTC-YXJwMn06"
      },
      "outputs": [],
      "source": [
        "df = pd.read_csv(path_captions_no_puncts, sep='|')\n",
        "features = to_features(df)"
      ]
    },
    {
      "cell_type": "code",
      "execution_count": null,
      "metadata": {
        "colab": {
          "base_uri": "https://localhost:8080/"
        },
        "id": "BXVZNBqAMzWc",
        "outputId": "48babfc9-c151-48ea-ce53-13505a5ad6da"
      },
      "outputs": [
        {
          "name": "stdout",
          "output_type": "stream",
          "text": [
            "по деревне стоят синей гуляют двое детей рубашке ребенок играют в\n"
          ]
        }
      ],
      "source": [
        "print(features[\"1\"])"
      ]
    },
    {
      "cell_type": "code",
      "execution_count": null,
      "metadata": {
        "colab": {
          "base_uri": "https://localhost:8080/"
        },
        "id": "WavexVadM47I",
        "outputId": "0db37cc9-dbc0-4082-a9ba-5c9f5aa7a498"
      },
      "outputs": [
        {
          "name": "stdout",
          "output_type": "stream",
          "text": [
            "размер признаков ... 7796\n"
          ]
        }
      ],
      "source": [
        "print('размер признаков ... %d' % len(features))\n",
        "with open(path_features,'wb') as f:\n",
        "  pickle.dump(features, f)\n",
        "\n",
        "with open(path_features,'rb') as f:\n",
        "  loaded_features = pickle.load(f)"
      ]
    },
    {
      "cell_type": "markdown",
      "metadata": {
        "collapsed": false,
        "id": "58Z5FBfStpNe"
      },
      "source": [
        "# Разбить набор на три части"
      ]
    },
    {
      "cell_type": "code",
      "execution_count": null,
      "metadata": {
        "colab": {
          "base_uri": "https://localhost:8080/",
          "height": 206
        },
        "id": "ATu6aSbQtpNe",
        "outputId": "afc9ab23-75e8-4d2d-96c2-ec2dcec57b51"
      },
      "outputs": [
        {
          "data": {
            "text/html": [
              "\n",
              "  <div id=\"df-a688c412-2513-4015-aca5-83001910148f\">\n",
              "    <div class=\"colab-df-container\">\n",
              "      <div>\n",
              "<style scoped>\n",
              "    .dataframe tbody tr th:only-of-type {\n",
              "        vertical-align: middle;\n",
              "    }\n",
              "\n",
              "    .dataframe tbody tr th {\n",
              "        vertical-align: top;\n",
              "    }\n",
              "\n",
              "    .dataframe thead th {\n",
              "        text-align: right;\n",
              "    }\n",
              "</style>\n",
              "<table border=\"1\" class=\"dataframe\">\n",
              "  <thead>\n",
              "    <tr style=\"text-align: right;\">\n",
              "      <th></th>\n",
              "      <th>image_name</th>\n",
              "      <th>comment_number</th>\n",
              "      <th>comment</th>\n",
              "    </tr>\n",
              "  </thead>\n",
              "  <tbody>\n",
              "    <tr>\n",
              "      <th>0</th>\n",
              "      <td>1.jpg</td>\n",
              "      <td>0.0</td>\n",
              "      <td>двое детей гуляют по деревне</td>\n",
              "    </tr>\n",
              "    <tr>\n",
              "      <th>1</th>\n",
              "      <td>1.jpg</td>\n",
              "      <td>1.0</td>\n",
              "      <td>двое детей гуляют по деревне</td>\n",
              "    </tr>\n",
              "    <tr>\n",
              "      <th>2</th>\n",
              "      <td>1.jpg</td>\n",
              "      <td>2.0</td>\n",
              "      <td>ребенок в синей рубашке</td>\n",
              "    </tr>\n",
              "    <tr>\n",
              "      <th>3</th>\n",
              "      <td>1.jpg</td>\n",
              "      <td>3.0</td>\n",
              "      <td>двое детей играют</td>\n",
              "    </tr>\n",
              "    <tr>\n",
              "      <th>4</th>\n",
              "      <td>1.jpg</td>\n",
              "      <td>4.0</td>\n",
              "      <td>стоят двое детей</td>\n",
              "    </tr>\n",
              "  </tbody>\n",
              "</table>\n",
              "</div>\n",
              "      <button class=\"colab-df-convert\" onclick=\"convertToInteractive('df-a688c412-2513-4015-aca5-83001910148f')\"\n",
              "              title=\"Convert this dataframe to an interactive table.\"\n",
              "              style=\"display:none;\">\n",
              "        \n",
              "  <svg xmlns=\"http://www.w3.org/2000/svg\" height=\"24px\"viewBox=\"0 0 24 24\"\n",
              "       width=\"24px\">\n",
              "    <path d=\"M0 0h24v24H0V0z\" fill=\"none\"/>\n",
              "    <path d=\"M18.56 5.44l.94 2.06.94-2.06 2.06-.94-2.06-.94-.94-2.06-.94 2.06-2.06.94zm-11 1L8.5 8.5l.94-2.06 2.06-.94-2.06-.94L8.5 2.5l-.94 2.06-2.06.94zm10 10l.94 2.06.94-2.06 2.06-.94-2.06-.94-.94-2.06-.94 2.06-2.06.94z\"/><path d=\"M17.41 7.96l-1.37-1.37c-.4-.4-.92-.59-1.43-.59-.52 0-1.04.2-1.43.59L10.3 9.45l-7.72 7.72c-.78.78-.78 2.05 0 2.83L4 21.41c.39.39.9.59 1.41.59.51 0 1.02-.2 1.41-.59l7.78-7.78 2.81-2.81c.8-.78.8-2.07 0-2.86zM5.41 20L4 18.59l7.72-7.72 1.47 1.35L5.41 20z\"/>\n",
              "  </svg>\n",
              "      </button>\n",
              "      \n",
              "  <style>\n",
              "    .colab-df-container {\n",
              "      display:flex;\n",
              "      flex-wrap:wrap;\n",
              "      gap: 12px;\n",
              "    }\n",
              "\n",
              "    .colab-df-convert {\n",
              "      background-color: #E8F0FE;\n",
              "      border: none;\n",
              "      border-radius: 50%;\n",
              "      cursor: pointer;\n",
              "      display: none;\n",
              "      fill: #1967D2;\n",
              "      height: 32px;\n",
              "      padding: 0 0 0 0;\n",
              "      width: 32px;\n",
              "    }\n",
              "\n",
              "    .colab-df-convert:hover {\n",
              "      background-color: #E2EBFA;\n",
              "      box-shadow: 0px 1px 2px rgba(60, 64, 67, 0.3), 0px 1px 3px 1px rgba(60, 64, 67, 0.15);\n",
              "      fill: #174EA6;\n",
              "    }\n",
              "\n",
              "    [theme=dark] .colab-df-convert {\n",
              "      background-color: #3B4455;\n",
              "      fill: #D2E3FC;\n",
              "    }\n",
              "\n",
              "    [theme=dark] .colab-df-convert:hover {\n",
              "      background-color: #434B5C;\n",
              "      box-shadow: 0px 1px 3px 1px rgba(0, 0, 0, 0.15);\n",
              "      filter: drop-shadow(0px 1px 2px rgba(0, 0, 0, 0.3));\n",
              "      fill: #FFFFFF;\n",
              "    }\n",
              "  </style>\n",
              "\n",
              "      <script>\n",
              "        const buttonEl =\n",
              "          document.querySelector('#df-a688c412-2513-4015-aca5-83001910148f button.colab-df-convert');\n",
              "        buttonEl.style.display =\n",
              "          google.colab.kernel.accessAllowed ? 'block' : 'none';\n",
              "\n",
              "        async function convertToInteractive(key) {\n",
              "          const element = document.querySelector('#df-a688c412-2513-4015-aca5-83001910148f');\n",
              "          const dataTable =\n",
              "            await google.colab.kernel.invokeFunction('convertToInteractive',\n",
              "                                                     [key], {});\n",
              "          if (!dataTable) return;\n",
              "\n",
              "          const docLinkHtml = 'Like what you see? Visit the ' +\n",
              "            '<a target=\"_blank\" href=https://colab.research.google.com/notebooks/data_table.ipynb>data table notebook</a>'\n",
              "            + ' to learn more about interactive tables.';\n",
              "          element.innerHTML = '';\n",
              "          dataTable['output_type'] = 'display_data';\n",
              "          await google.colab.output.renderOutput(dataTable, element);\n",
              "          const docLink = document.createElement('div');\n",
              "          docLink.innerHTML = docLinkHtml;\n",
              "          element.appendChild(docLink);\n",
              "        }\n",
              "      </script>\n",
              "    </div>\n",
              "  </div>\n",
              "  "
            ],
            "text/plain": [
              "  image_name  comment_number                       comment\n",
              "0      1.jpg             0.0  двое детей гуляют по деревне\n",
              "1      1.jpg             1.0  двое детей гуляют по деревне\n",
              "2      1.jpg             2.0       ребенок в синей рубашке\n",
              "3      1.jpg             3.0             двое детей играют\n",
              "4      1.jpg             4.0              стоят двое детей"
            ]
          },
          "execution_count": 15,
          "metadata": {},
          "output_type": "execute_result"
        }
      ],
      "source": [
        "df = pd.read_csv(path_captions_no_puncts, delimiter='|')\n",
        "df.head(5)"
      ]
    },
    {
      "cell_type": "code",
      "execution_count": null,
      "metadata": {
        "id": "rMy6UwFgtpNf"
      },
      "outputs": [],
      "source": [
        "n = len(df)\n",
        "\n",
        "train_df = df[0:int(n*0.7)]\n",
        "val_df = df[int(n*0.7):int(n*0.9)]\n",
        "test_df = df[int(n*0.9):]\n",
        "\n",
        "train_df.to_csv(path_train, sep='|', encoding='utf-8', index=False)\n",
        "val_df.to_csv(path_val, sep='|', encoding='utf-8', index=False)\n",
        "test_df.to_csv(path_test, sep='|', encoding='utf-8', index=False)"
      ]
    },
    {
      "cell_type": "markdown",
      "metadata": {
        "collapsed": false,
        "id": "dh8GSPt5tpNg"
      },
      "source": [
        "# Добавить начальные и конечные строки startseq и endseq"
      ]
    },
    {
      "cell_type": "code",
      "execution_count": null,
      "metadata": {
        "id": "d2oNN0wdtpNg"
      },
      "outputs": [],
      "source": [
        "def add_start_end_tags(data):\n",
        "    for idx in data.index:\n",
        "        curr_str = str(data.iat[idx, 2])\n",
        "        data.iat[idx, 2] = 'startseq ' + curr_str + ' endseq'"
      ]
    },
    {
      "cell_type": "code",
      "execution_count": null,
      "metadata": {
        "id": "F1l-A16btpNg"
      },
      "outputs": [],
      "source": [
        "train_df = pd.read_csv(path_train, sep='|')\n",
        "val_df = pd.read_csv(path_val, sep='|')\n",
        "test_df = pd.read_csv(path_test, sep='|')\n",
        "\n",
        "add_start_end_tags(train_df)\n",
        "add_start_end_tags(val_df)\n",
        "add_start_end_tags(test_df)\n",
        "\n",
        "train_df.to_csv(path_train, sep='|', encoding='utf-8', index=False)\n",
        "val_df.to_csv(path_val, sep='|', encoding='utf-8', index=False)\n",
        "test_df.to_csv(path_test, sep='|', encoding='utf-8', index=False)"
      ]
    },
    {
      "cell_type": "code",
      "execution_count": null,
      "metadata": {
        "colab": {
          "base_uri": "https://localhost:8080/",
          "height": 36
        },
        "id": "UTjhboadtpNh",
        "outputId": "c5b0ddee-38e7-4b58-ea16-05f0de649c24"
      },
      "outputs": [
        {
          "data": {
            "application/vnd.google.colaboratory.intrinsic+json": {
              "type": "string"
            },
            "text/plain": [
              "'startseq женщина стоит с кирпичом в руке endseq'"
            ]
          },
          "execution_count": 19,
          "metadata": {},
          "output_type": "execute_result"
        }
      ],
      "source": [
        "test_df.iat[0, 2]"
      ]
    },
    {
      "cell_type": "markdown",
      "metadata": {
        "collapsed": false,
        "id": "oy4RYXBJtpNh"
      },
      "source": [
        "# Конвертация pandas.dataframe в dict"
      ]
    },
    {
      "cell_type": "code",
      "execution_count": null,
      "metadata": {
        "id": "pa4LCkYZtpNh"
      },
      "outputs": [],
      "source": [
        "def to_dict(data):\n",
        "    out_dict = dict()\n",
        "\n",
        "    start_index = 0\n",
        "    end_index = len(data) - 1 - 5\n",
        "\n",
        "    for idx in range(start_index, end_index+1, 5):\n",
        "        image_name = str(data.iat[idx, 0])[:-4]\n",
        "        curr_list = list()\n",
        "\n",
        "        curr_list.append(data.iat[idx, 2])\n",
        "        curr_list.append(data.iat[idx+1, 2])\n",
        "        curr_list.append(data.iat[idx+2, 2])\n",
        "        curr_list.append(data.iat[idx+3, 2])\n",
        "        curr_list.append(data.iat[idx+4, 2])\n",
        "\n",
        "        out_dict[image_name] = curr_list\n",
        "\n",
        "    return out_dict"
      ]
    },
    {
      "cell_type": "code",
      "execution_count": null,
      "metadata": {
        "colab": {
          "base_uri": "https://localhost:8080/",
          "height": 206
        },
        "id": "0K0G7h7ttpNi",
        "outputId": "acd4e135-aded-49ef-e00e-54616c2b0d74"
      },
      "outputs": [
        {
          "data": {
            "text/html": [
              "\n",
              "  <div id=\"df-c2329e3a-8cd3-4111-a6a3-9d9fcf863fbb\">\n",
              "    <div class=\"colab-df-container\">\n",
              "      <div>\n",
              "<style scoped>\n",
              "    .dataframe tbody tr th:only-of-type {\n",
              "        vertical-align: middle;\n",
              "    }\n",
              "\n",
              "    .dataframe tbody tr th {\n",
              "        vertical-align: top;\n",
              "    }\n",
              "\n",
              "    .dataframe thead th {\n",
              "        text-align: right;\n",
              "    }\n",
              "</style>\n",
              "<table border=\"1\" class=\"dataframe\">\n",
              "  <thead>\n",
              "    <tr style=\"text-align: right;\">\n",
              "      <th></th>\n",
              "      <th>image_name</th>\n",
              "      <th>comment_number</th>\n",
              "      <th>comment</th>\n",
              "    </tr>\n",
              "  </thead>\n",
              "  <tbody>\n",
              "    <tr>\n",
              "      <th>0</th>\n",
              "      <td>5614.jpg</td>\n",
              "      <td>27373.0</td>\n",
              "      <td>startseq стоит пожилая женщина за ней сидит ст...</td>\n",
              "    </tr>\n",
              "    <tr>\n",
              "      <th>1</th>\n",
              "      <td>5614.jpg</td>\n",
              "      <td>27374.0</td>\n",
              "      <td>startseq в жестяной комнате стоит старик за ни...</td>\n",
              "    </tr>\n",
              "    <tr>\n",
              "      <th>2</th>\n",
              "      <td>5614.jpg</td>\n",
              "      <td>27375.0</td>\n",
              "      <td>startseq стоит старуха а рядом с ней на скамей...</td>\n",
              "    </tr>\n",
              "    <tr>\n",
              "      <th>3</th>\n",
              "      <td>5614.jpg</td>\n",
              "      <td>27376.0</td>\n",
              "      <td>startseq стоит старуха а на пустой кровати сид...</td>\n",
              "    </tr>\n",
              "    <tr>\n",
              "      <th>4</th>\n",
              "      <td>5614.jpg</td>\n",
              "      <td>27377.0</td>\n",
              "      <td>startseq в жестяной комнате старуха с платком ...</td>\n",
              "    </tr>\n",
              "  </tbody>\n",
              "</table>\n",
              "</div>\n",
              "      <button class=\"colab-df-convert\" onclick=\"convertToInteractive('df-c2329e3a-8cd3-4111-a6a3-9d9fcf863fbb')\"\n",
              "              title=\"Convert this dataframe to an interactive table.\"\n",
              "              style=\"display:none;\">\n",
              "        \n",
              "  <svg xmlns=\"http://www.w3.org/2000/svg\" height=\"24px\"viewBox=\"0 0 24 24\"\n",
              "       width=\"24px\">\n",
              "    <path d=\"M0 0h24v24H0V0z\" fill=\"none\"/>\n",
              "    <path d=\"M18.56 5.44l.94 2.06.94-2.06 2.06-.94-2.06-.94-.94-2.06-.94 2.06-2.06.94zm-11 1L8.5 8.5l.94-2.06 2.06-.94-2.06-.94L8.5 2.5l-.94 2.06-2.06.94zm10 10l.94 2.06.94-2.06 2.06-.94-2.06-.94-.94-2.06-.94 2.06-2.06.94z\"/><path d=\"M17.41 7.96l-1.37-1.37c-.4-.4-.92-.59-1.43-.59-.52 0-1.04.2-1.43.59L10.3 9.45l-7.72 7.72c-.78.78-.78 2.05 0 2.83L4 21.41c.39.39.9.59 1.41.59.51 0 1.02-.2 1.41-.59l7.78-7.78 2.81-2.81c.8-.78.8-2.07 0-2.86zM5.41 20L4 18.59l7.72-7.72 1.47 1.35L5.41 20z\"/>\n",
              "  </svg>\n",
              "      </button>\n",
              "      \n",
              "  <style>\n",
              "    .colab-df-container {\n",
              "      display:flex;\n",
              "      flex-wrap:wrap;\n",
              "      gap: 12px;\n",
              "    }\n",
              "\n",
              "    .colab-df-convert {\n",
              "      background-color: #E8F0FE;\n",
              "      border: none;\n",
              "      border-radius: 50%;\n",
              "      cursor: pointer;\n",
              "      display: none;\n",
              "      fill: #1967D2;\n",
              "      height: 32px;\n",
              "      padding: 0 0 0 0;\n",
              "      width: 32px;\n",
              "    }\n",
              "\n",
              "    .colab-df-convert:hover {\n",
              "      background-color: #E2EBFA;\n",
              "      box-shadow: 0px 1px 2px rgba(60, 64, 67, 0.3), 0px 1px 3px 1px rgba(60, 64, 67, 0.15);\n",
              "      fill: #174EA6;\n",
              "    }\n",
              "\n",
              "    [theme=dark] .colab-df-convert {\n",
              "      background-color: #3B4455;\n",
              "      fill: #D2E3FC;\n",
              "    }\n",
              "\n",
              "    [theme=dark] .colab-df-convert:hover {\n",
              "      background-color: #434B5C;\n",
              "      box-shadow: 0px 1px 3px 1px rgba(0, 0, 0, 0.15);\n",
              "      filter: drop-shadow(0px 1px 2px rgba(0, 0, 0, 0.3));\n",
              "      fill: #FFFFFF;\n",
              "    }\n",
              "  </style>\n",
              "\n",
              "      <script>\n",
              "        const buttonEl =\n",
              "          document.querySelector('#df-c2329e3a-8cd3-4111-a6a3-9d9fcf863fbb button.colab-df-convert');\n",
              "        buttonEl.style.display =\n",
              "          google.colab.kernel.accessAllowed ? 'block' : 'none';\n",
              "\n",
              "        async function convertToInteractive(key) {\n",
              "          const element = document.querySelector('#df-c2329e3a-8cd3-4111-a6a3-9d9fcf863fbb');\n",
              "          const dataTable =\n",
              "            await google.colab.kernel.invokeFunction('convertToInteractive',\n",
              "                                                     [key], {});\n",
              "          if (!dataTable) return;\n",
              "\n",
              "          const docLinkHtml = 'Like what you see? Visit the ' +\n",
              "            '<a target=\"_blank\" href=https://colab.research.google.com/notebooks/data_table.ipynb>data table notebook</a>'\n",
              "            + ' to learn more about interactive tables.';\n",
              "          element.innerHTML = '';\n",
              "          dataTable['output_type'] = 'display_data';\n",
              "          await google.colab.output.renderOutput(dataTable, element);\n",
              "          const docLink = document.createElement('div');\n",
              "          docLink.innerHTML = docLinkHtml;\n",
              "          element.appendChild(docLink);\n",
              "        }\n",
              "      </script>\n",
              "    </div>\n",
              "  </div>\n",
              "  "
            ],
            "text/plain": [
              "  image_name  comment_number  \\\n",
              "0   5614.jpg         27373.0   \n",
              "1   5614.jpg         27374.0   \n",
              "2   5614.jpg         27375.0   \n",
              "3   5614.jpg         27376.0   \n",
              "4   5614.jpg         27377.0   \n",
              "\n",
              "                                             comment  \n",
              "0  startseq стоит пожилая женщина за ней сидит ст...  \n",
              "1  startseq в жестяной комнате стоит старик за ни...  \n",
              "2  startseq стоит старуха а рядом с ней на скамей...  \n",
              "3  startseq стоит старуха а на пустой кровати сид...  \n",
              "4  startseq в жестяной комнате старуха с платком ...  "
            ]
          },
          "execution_count": 21,
          "metadata": {},
          "output_type": "execute_result"
        }
      ],
      "source": [
        "df_to_convert = pd.read_csv(path_val, sep='|')\n",
        "df_to_convert.head()"
      ]
    },
    {
      "cell_type": "code",
      "execution_count": null,
      "metadata": {
        "id": "AFhVdt-RtpNi"
      },
      "outputs": [],
      "source": [
        "new_dict = to_dict(df_to_convert)"
      ]
    },
    {
      "cell_type": "code",
      "execution_count": null,
      "metadata": {
        "id": "Y2BCaibItpNj"
      },
      "outputs": [],
      "source": [
        "with open(path_val_dict,'wb') as f:\n",
        "    pickle.dump(new_dict, f)"
      ]
    },
    {
      "cell_type": "code",
      "execution_count": null,
      "metadata": {
        "id": "uEbstTxntpNj"
      },
      "outputs": [],
      "source": [
        "with open (path_val_dict, 'rb') as f:\n",
        "    test_dict = pickle.load(f)"
      ]
    },
    {
      "cell_type": "code",
      "execution_count": null,
      "metadata": {
        "colab": {
          "base_uri": "https://localhost:8080/",
          "height": 206
        },
        "id": "lBCKGVzAjdrO",
        "outputId": "39a92cea-acdc-4840-d7f1-8583474eed0d"
      },
      "outputs": [
        {
          "data": {
            "text/html": [
              "\n",
              "  <div id=\"df-f94591eb-6bb9-495b-8263-7a757d1c9894\">\n",
              "    <div class=\"colab-df-container\">\n",
              "      <div>\n",
              "<style scoped>\n",
              "    .dataframe tbody tr th:only-of-type {\n",
              "        vertical-align: middle;\n",
              "    }\n",
              "\n",
              "    .dataframe tbody tr th {\n",
              "        vertical-align: top;\n",
              "    }\n",
              "\n",
              "    .dataframe thead th {\n",
              "        text-align: right;\n",
              "    }\n",
              "</style>\n",
              "<table border=\"1\" class=\"dataframe\">\n",
              "  <thead>\n",
              "    <tr style=\"text-align: right;\">\n",
              "      <th></th>\n",
              "      <th>image_name</th>\n",
              "      <th>comment_number</th>\n",
              "      <th>comment</th>\n",
              "    </tr>\n",
              "  </thead>\n",
              "  <tbody>\n",
              "    <tr>\n",
              "      <th>0</th>\n",
              "      <td>1.jpg</td>\n",
              "      <td>0.0</td>\n",
              "      <td>startseq двое детей гуляют по деревне endseq</td>\n",
              "    </tr>\n",
              "    <tr>\n",
              "      <th>1</th>\n",
              "      <td>1.jpg</td>\n",
              "      <td>1.0</td>\n",
              "      <td>startseq двое детей гуляют по деревне endseq</td>\n",
              "    </tr>\n",
              "    <tr>\n",
              "      <th>2</th>\n",
              "      <td>1.jpg</td>\n",
              "      <td>2.0</td>\n",
              "      <td>startseq ребенок в синей рубашке endseq</td>\n",
              "    </tr>\n",
              "    <tr>\n",
              "      <th>3</th>\n",
              "      <td>1.jpg</td>\n",
              "      <td>3.0</td>\n",
              "      <td>startseq двое детей играют endseq</td>\n",
              "    </tr>\n",
              "    <tr>\n",
              "      <th>4</th>\n",
              "      <td>1.jpg</td>\n",
              "      <td>4.0</td>\n",
              "      <td>startseq стоят двое детей endseq</td>\n",
              "    </tr>\n",
              "  </tbody>\n",
              "</table>\n",
              "</div>\n",
              "      <button class=\"colab-df-convert\" onclick=\"convertToInteractive('df-f94591eb-6bb9-495b-8263-7a757d1c9894')\"\n",
              "              title=\"Convert this dataframe to an interactive table.\"\n",
              "              style=\"display:none;\">\n",
              "        \n",
              "  <svg xmlns=\"http://www.w3.org/2000/svg\" height=\"24px\"viewBox=\"0 0 24 24\"\n",
              "       width=\"24px\">\n",
              "    <path d=\"M0 0h24v24H0V0z\" fill=\"none\"/>\n",
              "    <path d=\"M18.56 5.44l.94 2.06.94-2.06 2.06-.94-2.06-.94-.94-2.06-.94 2.06-2.06.94zm-11 1L8.5 8.5l.94-2.06 2.06-.94-2.06-.94L8.5 2.5l-.94 2.06-2.06.94zm10 10l.94 2.06.94-2.06 2.06-.94-2.06-.94-.94-2.06-.94 2.06-2.06.94z\"/><path d=\"M17.41 7.96l-1.37-1.37c-.4-.4-.92-.59-1.43-.59-.52 0-1.04.2-1.43.59L10.3 9.45l-7.72 7.72c-.78.78-.78 2.05 0 2.83L4 21.41c.39.39.9.59 1.41.59.51 0 1.02-.2 1.41-.59l7.78-7.78 2.81-2.81c.8-.78.8-2.07 0-2.86zM5.41 20L4 18.59l7.72-7.72 1.47 1.35L5.41 20z\"/>\n",
              "  </svg>\n",
              "      </button>\n",
              "      \n",
              "  <style>\n",
              "    .colab-df-container {\n",
              "      display:flex;\n",
              "      flex-wrap:wrap;\n",
              "      gap: 12px;\n",
              "    }\n",
              "\n",
              "    .colab-df-convert {\n",
              "      background-color: #E8F0FE;\n",
              "      border: none;\n",
              "      border-radius: 50%;\n",
              "      cursor: pointer;\n",
              "      display: none;\n",
              "      fill: #1967D2;\n",
              "      height: 32px;\n",
              "      padding: 0 0 0 0;\n",
              "      width: 32px;\n",
              "    }\n",
              "\n",
              "    .colab-df-convert:hover {\n",
              "      background-color: #E2EBFA;\n",
              "      box-shadow: 0px 1px 2px rgba(60, 64, 67, 0.3), 0px 1px 3px 1px rgba(60, 64, 67, 0.15);\n",
              "      fill: #174EA6;\n",
              "    }\n",
              "\n",
              "    [theme=dark] .colab-df-convert {\n",
              "      background-color: #3B4455;\n",
              "      fill: #D2E3FC;\n",
              "    }\n",
              "\n",
              "    [theme=dark] .colab-df-convert:hover {\n",
              "      background-color: #434B5C;\n",
              "      box-shadow: 0px 1px 3px 1px rgba(0, 0, 0, 0.15);\n",
              "      filter: drop-shadow(0px 1px 2px rgba(0, 0, 0, 0.3));\n",
              "      fill: #FFFFFF;\n",
              "    }\n",
              "  </style>\n",
              "\n",
              "      <script>\n",
              "        const buttonEl =\n",
              "          document.querySelector('#df-f94591eb-6bb9-495b-8263-7a757d1c9894 button.colab-df-convert');\n",
              "        buttonEl.style.display =\n",
              "          google.colab.kernel.accessAllowed ? 'block' : 'none';\n",
              "\n",
              "        async function convertToInteractive(key) {\n",
              "          const element = document.querySelector('#df-f94591eb-6bb9-495b-8263-7a757d1c9894');\n",
              "          const dataTable =\n",
              "            await google.colab.kernel.invokeFunction('convertToInteractive',\n",
              "                                                     [key], {});\n",
              "          if (!dataTable) return;\n",
              "\n",
              "          const docLinkHtml = 'Like what you see? Visit the ' +\n",
              "            '<a target=\"_blank\" href=https://colab.research.google.com/notebooks/data_table.ipynb>data table notebook</a>'\n",
              "            + ' to learn more about interactive tables.';\n",
              "          element.innerHTML = '';\n",
              "          dataTable['output_type'] = 'display_data';\n",
              "          await google.colab.output.renderOutput(dataTable, element);\n",
              "          const docLink = document.createElement('div');\n",
              "          docLink.innerHTML = docLinkHtml;\n",
              "          element.appendChild(docLink);\n",
              "        }\n",
              "      </script>\n",
              "    </div>\n",
              "  </div>\n",
              "  "
            ],
            "text/plain": [
              "  image_name  comment_number                                       comment\n",
              "0      1.jpg             0.0  startseq двое детей гуляют по деревне endseq\n",
              "1      1.jpg             1.0  startseq двое детей гуляют по деревне endseq\n",
              "2      1.jpg             2.0       startseq ребенок в синей рубашке endseq\n",
              "3      1.jpg             3.0             startseq двое детей играют endseq\n",
              "4      1.jpg             4.0              startseq стоят двое детей endseq"
            ]
          },
          "execution_count": 46,
          "metadata": {},
          "output_type": "execute_result"
        }
      ],
      "source": [
        "df_to_convert = pd.read_csv(path_train, sep='|')\n",
        "df_to_convert.head()\n",
        "\n"
      ]
    },
    {
      "cell_type": "code",
      "execution_count": null,
      "metadata": {
        "id": "N2B4oW31kIxJ"
      },
      "outputs": [],
      "source": [
        "new_dict = to_dict(df_to_convert)\n",
        "with open(path_train_dict,'wb') as f:\n",
        "    pickle.dump(new_dict, f)\n",
        "with open (path_train_dict, 'rb') as f:\n",
        "    test_dict = pickle.load(f)"
      ]
    },
    {
      "cell_type": "code",
      "execution_count": null,
      "metadata": {
        "colab": {
          "base_uri": "https://localhost:8080/"
        },
        "id": "TpR75FLGuit7",
        "outputId": "acbc65f2-f93e-4b9d-f7fb-e9db51eee539"
      },
      "outputs": [
        {
          "name": "stdout",
          "output_type": "stream",
          "text": [
            "27373\n"
          ]
        }
      ],
      "source": [
        "#%% md\n",
        "# Предложения для обучения\n",
        "#%%\n",
        "def to_sentences(data):\n",
        "  all_sentences = list()\n",
        "  for idx in data.index:\n",
        "    all_sentences.append(data.iat[idx, 2])\n",
        "  return all_sentences\n",
        "#%%\n",
        "train_df = pd.read_csv(path_train, delimiter='|')\n",
        "sentences = to_sentences(train_df)\n",
        "print(len(sentences))\n",
        "#%%\n",
        "with open(path_sentences, 'wb') as f:\n",
        "  pickle.dump(sentences, f)\n",
        "#%%\n",
        "with open (path_sentences, 'rb') as f:\n",
        "  list_sentences = pickle.load(f)"
      ]
    },
    {
      "cell_type": "markdown",
      "metadata": {
        "collapsed": false,
        "id": "d4Xd4QACtpNj"
      },
      "source": [
        "# Выбрать и скопировать изображения"
      ]
    },
    {
      "cell_type": "code",
      "execution_count": null,
      "metadata": {
        "id": "En9j-zBRtpNk"
      },
      "outputs": [],
      "source": [
        "df = pd.read_csv(path_captions, sep='|')\n",
        "\n",
        "images_unique = df[\"image_name\"].unique()\n",
        "#print(images_unique.shape)\n",
        "#print(df.shape)"
      ]
    },
    {
      "cell_type": "code",
      "execution_count": null,
      "metadata": {
        "id": "MmdJEQEftpNk"
      },
      "outputs": [],
      "source": [
        "for image_name in images_unique:\n",
        "\n",
        "    curr_image = start_dir + str(image_name)\n",
        "    copied_image = end_dir + str(image_name)\n",
        "    print(f\"cur {curr_image}, cop {copied_image}\")\n",
        "    try:\n",
        "      shutil.copy2(curr_image, copied_image)\n",
        "    except:\n",
        "      pass\n",
        "\n",
        "counter = len(os.listdir(path=end_dir))\n",
        "print(\"скопировано изображений ... \" + str(counter))"
      ]
    },
    {
      "cell_type": "markdown",
      "metadata": {
        "id": "F5rjYmWbcR7B"
      },
      "source": [
        "# Этап 2\n",
        "Создание моделей"
      ]
    },
    {
      "cell_type": "code",
      "execution_count": null,
      "metadata": {
        "id": "VDT5sdvIcZ5G"
      },
      "outputs": [],
      "source": [
        "import os\n",
        "import pickle\n",
        "import random\n",
        "import time\n",
        "import numpy as np\n",
        "\n",
        "from tensorflow.python.client import device_lib\n",
        "from keras.layers import RepeatVector, TimeDistributed, Bidirectional\n",
        "\n",
        "from keras_preprocessing.text import Tokenizer\n",
        "from keras_preprocessing.sequence import pad_sequences\n",
        "from keras_preprocessing.image import load_img, img_to_array\n",
        "\n",
        "from tensorflow.keras.utils import to_categorical\n",
        "from keras.models import Model\n",
        "from keras.layers import Input\n",
        "from keras.layers import Dense\n",
        "from keras.layers import LSTM\n",
        "from keras.layers import Embedding\n",
        "from keras.layers import Dropout\n",
        "from keras.layers.merge import add\n",
        "from google.colab import drive"
      ]
    },
    {
      "cell_type": "code",
      "execution_count": null,
      "metadata": {
        "colab": {
          "base_uri": "https://localhost:8080/"
        },
        "id": "dLOol3-GcnBP",
        "outputId": "63eb6503-bcd0-46c6-d8a5-35d2708242e0"
      },
      "outputs": [
        {
          "output_type": "stream",
          "name": "stdout",
          "text": [
            "Drive already mounted at /content/drive; to attempt to forcibly remount, call drive.mount(\"/content/drive\", force_remount=True).\n"
          ]
        }
      ],
      "source": [
        "curr_folder = '/content/drive'\n",
        "drive.mount(curr_folder)\n",
        "\n",
        "\n",
        "start_dir = curr_folder + '/MyDrive/NN/Pictures/'\n",
        "end_dir = curr_folder + '/MyDrive/NN/End/'\n",
        "\n",
        "\n",
        "path_tokenizer = curr_folder + '/MyDrive/NN/tokenizer.pkl'\n",
        "path_train_dict = curr_folder + '/MyDrive/NN/train_dict.pkl'\n",
        "path_val_dict = curr_folder + '/MyDrive/NN/val_dict.pkl'\n",
        "\n",
        "path_features_vgg16 = curr_folder + '/MyDrive/NN/vocab.pkl'\n",
        "path_features_inception = curr_folder + '/MyDrive/NN/features.pkl'"
      ]
    },
    {
      "cell_type": "markdown",
      "metadata": {
        "id": "qqAaRlV3dtGv"
      },
      "source": [
        "Загрузка"
      ]
    },
    {
      "cell_type": "code",
      "execution_count": null,
      "metadata": {
        "id": "WxjkNzZLdpI5"
      },
      "outputs": [],
      "source": [
        "def image_names_set(data):\n",
        "    vals = set()\n",
        "\n",
        "    for idx in data.index:\n",
        "        vals.add(data.iat[idx, 0][:-4])\n",
        "\n",
        "    return vals\n",
        "\n",
        "def load_image_features(filename, data):\n",
        "    all_features = pickle.load(open(filename, 'rb'))\n",
        "    features = {k: all_features[k] for k in data}\n",
        "\n",
        "    return features"
      ]
    },
    {
      "cell_type": "markdown",
      "metadata": {
        "id": "97WrAvHvdy5n"
      },
      "source": [
        "Закодировать знаки в числа\n",
        "Модель, которую мы разработаем, будет генерировать подпись к фотографии, и подпись будет генерироваться по одному слову за раз.\n",
        "\n",
        "Последовательность ранее сгенерированных слов будет предоставлена в качестве входных данных. Поэтому нам понадобится \"первое слово\", чтобы начать процесс генерации, и \"последнее слово\", чтобы сигнализировать об окончании подписи. Для этой цели мы будем использовать строки \"startseq\" и \"endseq\". Эти маркеры добавляются к загруженным описаниям по мере их загрузки. Важно сделать это сейчас, прежде чем мы закодируем текст, чтобы токены также были закодированы правильно.\n",
        "\n",
        "Текст подписи необходимо будет закодировать в числа, прежде чем его можно будет представить модели в качестве входных данных или сравнить с предсказаниями модели.\n",
        "\n",
        "Первым шагом в кодировании данных является создание согласованного сопоставления слов с уникальными целочисленными значениями. Keras предоставляет класс Tokenizer, который может изучить это сопоставление из загруженных данных описания.\n",
        "\n",
        "Каждое описание будет разделено на слова. Модель будет предоставлена одним словом и фотографией и сгенерирует следующее слово. Затем первые два слова описания будут предоставлены модели в качестве входных данных вместе с изображением для создания следующего слова. Именно так будет обучаться модель."
      ]
    },
    {
      "cell_type": "code",
      "execution_count": null,
      "metadata": {
        "id": "8khaVqe9d2kT"
      },
      "outputs": [],
      "source": [
        "def to_lines(data):\n",
        "    all_vals = list()\n",
        "    for key in data.keys():\n",
        "        [all_vals.append(d) for d in data[key]]\n",
        "\n",
        "    return all_vals\n",
        "\n",
        "def create_tokenizer(data):\n",
        "    lines = to_lines(data)\n",
        "    tokenizer = Tokenizer()\n",
        "    tokenizer.fit_on_texts(lines)\n",
        "\n",
        "    return tokenizer\n",
        "\n",
        "def find_max_words(data):\n",
        "    lines = to_lines(data)\n",
        "    return max(len(l.split()) for l in lines)"
      ]
    },
    {
      "cell_type": "markdown",
      "metadata": {
        "id": "Xo30KLyhfleH"
      },
      "source": [
        "Создание последовательности\n",
        "Приведенная ниже функция с именем create_sequences(), учитывая токенизатор, максимальную длину последовательности и словарь всех описаний и фотографий, преобразует данные в пары ввода-вывода данных для обучения модели.\n",
        "\n",
        "В модели есть два входных массива: один для признаков фотографии и один для закодированного текста. Существует один вывод для модели, который представляет собой закодированное следующее слово в текстовой последовательности.\n",
        "\n",
        "Входной текст кодируется в виде целых чисел, которые будут передаваться на слой встраивания слов. Признаки изображения будут передаваться непосредственно в другую часть модели. Модель выдаст прогноз, который будет представлять собой распределение вероятностей по всем словам в словаре.\n",
        "\n",
        "Таким образом, выходные данные будут представлять собой однократно закодированную версию каждого слова, представляющую идеализированное распределение вероятностей со значениями 0 во всех позициях слов, кроме фактической позиции слова, которая имеет значение 1.\n",
        "\n",
        "X1, X2 (text sequence), y (word) photo startseq, little photo startseq, little, girl photo startseq, little, girl, running photo startseq, little, girl, running, in photo startseq, little, girl, running, in, field photo startseq, little, girl, running, in, field, endseq"
      ]
    },
    {
      "cell_type": "code",
      "execution_count": null,
      "metadata": {
        "id": "_pFS_oHPfi1P"
      },
      "outputs": [],
      "source": [
        "def create_sequences(tokenizer, max_words, captions_list, image_name):\n",
        "    X_image, X_text, y_word = list(), list(), list()\n",
        "    vocab_size = len(tokenizer.word_index) + 1\n",
        "\n",
        "    for caption in captions_list:\n",
        "        seq = tokenizer.texts_to_sequences([caption])[0]\n",
        "\n",
        "        for i in range(1, len(seq)):\n",
        "            in_seq, out_seq = seq[:i], seq[i]\n",
        "            in_seq = pad_sequences([in_seq], maxlen=max_words)[0]\n",
        "            out_seq = to_categorical([out_seq], num_classes=vocab_size)[0]\n",
        "\n",
        "            X_image.append(image_name)\n",
        "            X_text.append(in_seq)\n",
        "            y_word.append(out_seq)\n",
        "\n",
        "    return X_image, X_text, y_word"
      ]
    },
    {
      "cell_type": "markdown",
      "metadata": {
        "id": "oPBA64tLfyBx"
      },
      "source": [
        "Генератор данных\n",
        "Генератор данных будет выдавать данные на одно изображении в каждой партии. Это будут все последовательности, сгенерированные для изображения и её набора описаний.\n",
        "\n",
        "Функция data_generator() будет генератором данных и будет принимать загруженные текстовые описания, признаки изображений, токенизатор и максимальную длину.\n",
        "\n",
        "Вы можете видеть, что мы вызываем функцию create_sequence (), чтобы создать пакет данных для одного изображения, а не для всего набора данных. Это означает, что мы должны обновить функцию create_sequences (), чтобы удалить “итерацию по всем описаниям” для цикла.\n",
        "\n",
        "Генератор данных, предназначен для использования в вызове model.fit_generator().\n",
        "\n",
        "Обратите внимание, что это очень простой генератор данных. Большая экономия памяти, которую он предлагает, заключается в том, чтобы не иметь развернутых последовательностей обучающих и тестовых данных в памяти до подгонки модели, чтобы эти образцы (например, результаты create_sequences()) создавались по мере необходимости для каждого изображения."
      ]
    },
    {
      "cell_type": "code",
      "execution_count": null,
      "metadata": {
        "id": "oZVYtCBgfy34"
      },
      "outputs": [],
      "source": [
        "def data_generator(tokenizer, max_words, data, images, batch_size, random_seed):\n",
        "    count = 0\n",
        "    random.seed(random_seed)\n",
        "\n",
        "    img_names = list(data.keys())\n",
        "    assert batch_size <= len(img_names), 'batch size must be less than or equal to {}'.format(len(img_names))\n",
        "\n",
        "    while True:\n",
        "        input_img_batch, input_seq_batch, output_word_batch = list(), list(), list()\n",
        "\n",
        "        if count >= len(img_names):\n",
        "            count = 0\n",
        "        start_i = count\n",
        "        end_i = min(len(img_names), count + batch_size)\n",
        "\n",
        "        for i in range(start_i, end_i):\n",
        "            curr_img = img_names[i]\n",
        "            image = images[curr_img][0]\n",
        "            captions_list = data[curr_img]\n",
        "            random.shuffle(captions_list)\n",
        "\n",
        "            input_img, input_seq, output_word = create_sequences(tokenizer, max_words, captions_list, image)\n",
        "\n",
        "            for j in range(len(input_img)):\n",
        "                input_img_batch.append(input_img[j])\n",
        "                input_seq_batch.append(input_seq[j])\n",
        "                output_word_batch.append(output_word[j])\n",
        "\n",
        "        count = count + batch_size\n",
        "        yield [np.array(input_img_batch), np.array(input_seq_batch)], np.array(output_word_batch)"
      ]
    },
    {
      "cell_type": "markdown",
      "metadata": {
        "id": "OBrdj_aMf3S8"
      },
      "source": [
        "Построение модели\n",
        "Мы опишем модель в трёх частях:\n",
        "\n",
        "1 – Извлечение признаков изображения. Это 16-слойная модель VGG, предварительно обученная на наборе данных ImageNet. Мы предварительно обработали изображения с помощью модели VGG (без выходного слоя) и будем использовать извлечённые признаки, предсказанные этой моделью, в качестве входных данных.\n",
        "\n",
        "2 – Обработка последовательностей. Это слой встраивания слов для обработки ввода текста, за которым следует слой рекуррентной нейронной сети с длительной кратковременной памятью (LSTM).\n",
        "\n",
        "3 – Расшифровка. (1) и (2) выводят вектор фиксированной длины. Они объединяются вместе и обрабатываются плотным слоем, чтобы сделать окончательный прогноз.\n",
        "\n",
        "Модель (1) ожидает, что входные признаки изображений будут вектором из 4096 элементов. Они обрабатываются плотным слоем для получения 256-элементного представления изображения.\n",
        "\n",
        "Модель (2) ожидает входные последовательности с заранее определённой длиной, которые подаются в слой встраивания, использующий маску для игнорирования дополненных значений. За этим следует слой LSTM с 256 единицами памяти.\n",
        "\n",
        "Обе входные модели создают вектор из 256 элементов. Кроме того, обе входные модели используют регуляризацию в виде 50% отсева (dropout). Это делается для того, чтобы уменьшить переобучение модели на текущем наборе данных, так как эта конфигурация модели обучается очень быстро.\n",
        "\n",
        "Модель (3) объединяет векторы из обеих входных моделей с помощью операции сложения. Затем этот вектор подаётся на плотный слой из 256 нейронов, а затем на конечный выходной плотный слой, который делает прогноз softmax по всему выходному словарю для следующего слова в последовательности."
      ]
    },
    {
      "cell_type": "code",
      "execution_count": null,
      "metadata": {
        "id": "TlvuvRRBf62K"
      },
      "outputs": [],
      "source": [
        "def build_rnn(input_size, vocab_size, max_words):\n",
        "    inputs1 = Input(shape=(input_size,))\n",
        "    fe1 = Dropout(0.5)(inputs1)\n",
        "    fe2 = Dense(256, activation='relu')(fe1)\n",
        "\n",
        "    inputs2 = Input(shape=(max_words,))\n",
        "    se1 = Embedding(vocab_size, 256, mask_zero=True)(inputs2)\n",
        "    se2 = Dropout(0.5)(se1)\n",
        "    se3 = LSTM(256)(se2)\n",
        "\n",
        "    de1 = add([fe2, se3])\n",
        "    de2 = Dense(256, activation='relu')(de1)\n",
        "    outputs = Dense(vocab_size, activation='softmax')(de2)\n",
        "\n",
        "    model = Model(inputs=[inputs1, inputs2], outputs=outputs)\n",
        "    model.compile(loss='categorical_crossentropy', optimizer='adam')\n",
        "\n",
        "    return model"
      ]
    },
    {
      "cell_type": "code",
      "execution_count": null,
      "metadata": {
        "id": "1fGNkD7Af9SK"
      },
      "outputs": [],
      "source": [
        "def build_alt_rnn(input_size, vocab_size, max_words):\n",
        "    image_input = Input(shape=(input_size,))\n",
        "    fe1 = Dense(256, activation='relu')(image_input)\n",
        "    image_model = RepeatVector(max_words)(fe1)\n",
        "\n",
        "    caption_input = Input(shape=(max_words,))\n",
        "    # we zero pad inputs to the same length, the zero mask ignores those inputs\n",
        "    se1 = Embedding(vocab_size, 256, mask_zero=True)(caption_input)\n",
        "    # since we are going to predict the next word using the previous words\n",
        "    # (length of previous words changes with every iteration over the caption), we have to set return_sequences = True\n",
        "    se2 = LSTM(256, return_sequences=True)(se1)\n",
        "    caption_model = TimeDistributed(Dense(256))(se2)\n",
        "\n",
        "    # merging the models and creating a softmax classifier\n",
        "    de1 = add([image_model, caption_model])\n",
        "    de2 = Bidirectional(LSTM(256, return_sequences=False))(de1)\n",
        "    final_model = Dense(vocab_size, activation='softmax')(de2)\n",
        "\n",
        "    model = Model(inputs=[image_input, caption_input], outputs=final_model)\n",
        "    model.compile(loss='categorical_crossentropy', optimizer='adam')\n",
        "\n",
        "    return model"
      ]
    },
    {
      "cell_type": "markdown",
      "metadata": {
        "id": "_7oPUi20gB6A"
      },
      "source": [
        "Обучение\n",
        "В этом примере мы отбросим загрузку тестового набора данных и контрольные точки модели и просто сохраним модель после каждой эпохи обучения. Затем мы сможем вернуться и загрузить/оценить каждую сохраненную модель после обучения, чтобы найти ту, которая имеет наименьшие потери."
      ]
    },
    {
      "cell_type": "code",
      "execution_count": null,
      "metadata": {
        "id": "psjUc9smgCdU"
      },
      "outputs": [],
      "source": [
        "def load_train_data(train_dict_path, tokenizer_path, features_path):\n",
        "    with open (train_dict_path, 'rb') as f:\n",
        "        out_train_dict = pickle.load(f)\n",
        "    print('кол-во подписей .............. %d' % len(out_train_dict))\n",
        "\n",
        "    del out_train_dict[\"\"]\n",
        "\n",
        "    out_train_features = load_image_features(features_path, out_train_dict)\n",
        "\n",
        "    with open (tokenizer_path, 'rb') as f:\n",
        "        out_tokenizer = pickle.load(f)\n",
        "    out_vocab_size = len(out_tokenizer.word_index) + 1\n",
        "    print('размер словаря ............... %d' % out_vocab_size)\n",
        "\n",
        "    out_max_words = find_max_words(out_train_dict)\n",
        "    print('длина предложения в словах ... %d' % out_max_words)\n",
        "\n",
        "    return out_train_dict, out_tokenizer, out_vocab_size, out_max_words, out_train_features\n",
        "\n",
        "model_path = curr_folder + '/MyDrive/NN/Inspiration2/'\n",
        "def train_model(model, train_dict, tokenizer, max_words, train_features, batch_size, epochs_num):\n",
        "    steps = len(train_dict)/batch_size\n",
        "    if len(train_dict) % batch_size != 0:\n",
        "        steps = steps + 1\n",
        "\n",
        "    start_time = time.time()\n",
        "    for i in range(epochs_num):\n",
        "        generator = data_generator(tokenizer, max_words, train_dict, train_features, batch_size, 42)\n",
        "        model.fit(generator,\n",
        "                  epochs=1, steps_per_epoch=steps,\n",
        "                  verbose=1)\n",
        "        model.save(model_path + 'Inspiration2-' + str(i) + '.h5')\n",
        "\n",
        "    time_difference = time.time() - start_time\n",
        "    minutes = time_difference/60\n",
        "    print('время обучения в минутах ..... %d' % minutes)"
      ]
    },
    {
      "cell_type": "markdown",
      "metadata": {
        "id": "woI2DAwxgI4Z"
      },
      "source": [
        "Набор для обучения "
      ]
    },
    {
      "cell_type": "code",
      "execution_count": null,
      "metadata": {
        "colab": {
          "base_uri": "https://localhost:8080/"
        },
        "id": "q5-7k_jIgMMR",
        "outputId": "14b5e321-f062-461c-9d7d-f05a415e2a13"
      },
      "outputs": [
        {
          "output_type": "stream",
          "name": "stdout",
          "text": [
            "кол-во подписей .............. 5456\n",
            "размер словаря ............... 21391\n",
            "длина предложения в словах ... 30\n"
          ]
        }
      ],
      "source": [
        "batch_size = 16\n",
        "epochs_num = 20\n",
        "train_dict, tokenizer, vocab_size, max_words, train_features = load_train_data(path_train_dict, path_tokenizer, path_features_inception)"
      ]
    },
    {
      "cell_type": "markdown",
      "metadata": {
        "id": "BkNiUB-Uz8U_"
      },
      "source": [
        "Обучение VGG16"
      ]
    },
    {
      "cell_type": "code",
      "execution_count": null,
      "metadata": {
        "id": "QTmw5ClsQX-D"
      },
      "outputs": [],
      "source": [
        "model = build_rnn(2048, vocab_size, max_words)"
      ]
    },
    {
      "cell_type": "code",
      "execution_count": null,
      "metadata": {
        "colab": {
          "base_uri": "https://localhost:8080/"
        },
        "id": "_Of1OHiuQbBM",
        "outputId": "292519ed-9227-4414-8d97-d6400f35762f"
      },
      "outputs": [
        {
          "name": "stdout",
          "output_type": "stream",
          "text": [
            "Model: \"model_5\"\n",
            "__________________________________________________________________________________________________\n",
            " Layer (type)                   Output Shape         Param #     Connected to                     \n",
            "==================================================================================================\n",
            " input_12 (InputLayer)          [(None, 30)]         0           []                               \n",
            "                                                                                                  \n",
            " input_11 (InputLayer)          [(None, 4096)]       0           []                               \n",
            "                                                                                                  \n",
            " embedding_5 (Embedding)        (None, 30, 256)      5476096     ['input_12[0][0]']               \n",
            "                                                                                                  \n",
            " dropout_8 (Dropout)            (None, 4096)         0           ['input_11[0][0]']               \n",
            "                                                                                                  \n",
            " dropout_9 (Dropout)            (None, 30, 256)      0           ['embedding_5[0][0]']            \n",
            "                                                                                                  \n",
            " dense_15 (Dense)               (None, 256)          1048832     ['dropout_8[0][0]']              \n",
            "                                                                                                  \n",
            " lstm_6 (LSTM)                  (None, 256)          525312      ['dropout_9[0][0]']              \n",
            "                                                                                                  \n",
            " add_5 (Add)                    (None, 256)          0           ['dense_15[0][0]',               \n",
            "                                                                  'lstm_6[0][0]']                 \n",
            "                                                                                                  \n",
            " dense_16 (Dense)               (None, 256)          65792       ['add_5[0][0]']                  \n",
            "                                                                                                  \n",
            " dense_17 (Dense)               (None, 21391)        5497487     ['dense_16[0][0]']               \n",
            "                                                                                                  \n",
            "==================================================================================================\n",
            "Total params: 12,613,519\n",
            "Trainable params: 12,613,519\n",
            "Non-trainable params: 0\n",
            "__________________________________________________________________________________________________\n"
          ]
        }
      ],
      "source": [
        "model.summary()"
      ]
    },
    {
      "cell_type": "code",
      "execution_count": null,
      "metadata": {
        "colab": {
          "base_uri": "https://localhost:8080/",
          "height": 969
        },
        "id": "xRGspbbdXEL2",
        "outputId": "03d74619-6844-4ae6-a909-318a7ff37ff7"
      },
      "outputs": [
        {
          "data": {
            "image/png": "[encoded data removed]",
            "text/plain": [
              "<IPython.core.display.Image object>"
            ]
          },
          "execution_count": 52,
          "metadata": {},
          "output_type": "execute_result"
        }
      ],
      "source": [
        "from tensorflow.keras.utils import plot_model\n",
        "\n",
        "plot_model(model, to_file=curr_folder+'/MyDrive/NN/model.png', show_shapes=True, show_dtype=True, show_layer_names=True, show_layer_activations=True)"
      ]
    },
    {
      "cell_type": "code",
      "execution_count": null,
      "metadata": {
        "colab": {
          "base_uri": "https://localhost:8080/"
        },
        "id": "10sW3_nIz9wC",
        "outputId": "2b7f9289-da69-470e-c775-cde3f2163755"
      },
      "outputs": [
        {
          "name": "stdout",
          "output_type": "stream",
          "text": [
            "341/341 [==============================] - 626s 2s/step - loss: 5.4224\n",
            "341/341 [==============================] - 637s 2s/step - loss: 4.4565\n",
            "341/341 [==============================] - 630s 2s/step - loss: 4.0489\n",
            "341/341 [==============================] - 631s 2s/step - loss: 3.7841\n",
            "341/341 [==============================] - 632s 2s/step - loss: 3.6094\n",
            "341/341 [==============================] - 635s 2s/step - loss: 3.4725\n",
            "341/341 [==============================] - 636s 2s/step - loss: 3.3798\n",
            "341/341 [==============================] - 639s 2s/step - loss: 3.2746\n",
            "341/341 [==============================] - 630s 2s/step - loss: 3.1811\n",
            "341/341 [==============================] - 627s 2s/step - loss: 3.0951\n",
            "341/341 [==============================] - 632s 2s/step - loss: 3.0099\n",
            "341/341 [==============================] - 629s 2s/step - loss: 2.9179\n",
            "341/341 [==============================] - 630s 2s/step - loss: 2.8463\n",
            "341/341 [==============================] - 628s 2s/step - loss: 2.7797\n",
            "341/341 [==============================] - 634s 2s/step - loss: 2.7101\n",
            "341/341 [==============================] - 629s 2s/step - loss: 2.6464\n",
            "341/341 [==============================] - 623s 2s/step - loss: 2.5873\n",
            "341/341 [==============================] - 637s 2s/step - loss: 2.5306\n",
            "341/341 [==============================] - 631s 2s/step - loss: 2.4841\n",
            "341/341 [==============================] - 635s 2s/step - loss: 2.4396\n",
            "время обучения в минутах ..... 224\n"
          ]
        }
      ],
      "source": [
        "train_model(model, train_dict, tokenizer, max_words, train_features, batch_size, epochs_num)"
      ]
    },
    {
      "cell_type": "code",
      "execution_count": null,
      "metadata": {
        "id": "OzFVEJYM0GOO"
      },
      "outputs": [],
      "source": [
        "model = build_alt_rnn(2048, vocab_size, max_words)\n",
        "train_model(model, train_dict, tokenizer, max_words, train_features, batch_size, epochs_num)"
      ]
    },
    {
      "cell_type": "markdown",
      "metadata": {
        "id": "0BnCiHs3Wsiy"
      },
      "source": [
        "# **Обучение Inception**"
      ]
    },
    {
      "cell_type": "code",
      "execution_count": null,
      "metadata": {
        "id": "axJeX3sbWsHs"
      },
      "outputs": [],
      "source": [
        "from keras.applications.inception_v3 import InceptionV3\n",
        "from keras.applications.inception_v3 import preprocess_input as preprocess_input_i\n",
        "\n",
        "def extract_features_inception(directory):\n",
        "    model = InceptionV3(weights=\"imagenet\")\n",
        "    model = Model(inputs=model.inputs, outputs=model.layers[-2].output)\n",
        "\n",
        "    features = dict()\n",
        "    for name in os.listdir(directory):\n",
        "        filename = directory + '/' + name\n",
        "\n",
        "        image = load_img(filename, target_size=(299, 299))\n",
        "        image = img_to_array(image)\n",
        "        image = image.reshape((1, image.shape[0], image.shape[1], image.shape[2]))\n",
        "        image = preprocess_input_i(image)\n",
        "\n",
        "        feature = model.predict(image, verbose=0)\n",
        "        image_id = name.split('.')[0]\n",
        "        features[image_id] = feature\n",
        "\n",
        "    return features"
      ]
    },
    {
      "cell_type": "code",
      "execution_count": null,
      "metadata": {
        "id": "i1y9wnhuWzs3",
        "colab": {
          "base_uri": "https://localhost:8080/"
        },
        "outputId": "21781b65-fb8d-4560-d90a-69a9536d979b"
      },
      "outputs": [
        {
          "output_type": "stream",
          "name": "stdout",
          "text": [
            "выделенные признаки ... 8000\n",
            "CPU times: user 56min 39s, sys: 1min 40s, total: 58min 19s\n",
            "Wall time: 34min 36s\n"
          ]
        }
      ],
      "source": [
        "%%time\n",
        "features = extract_features_inception(end_dir)\n",
        "print('выделенные признаки ... %d' % len(features))\n",
        "pickle.dump(features, open(path_features_inception, 'wb'))"
      ]
    },
    {
      "cell_type": "code",
      "execution_count": null,
      "metadata": {
        "colab": {
          "base_uri": "https://localhost:8080/"
        },
        "id": "PzbUyn0imJS4",
        "outputId": "4451dddf-5bcb-4933-dd0f-90d554800d28"
      },
      "outputs": [
        {
          "output_type": "stream",
          "name": "stdout",
          "text": [
            "кол-во подписей .............. 5456\n",
            "размер словаря ............... 21391\n",
            "длина предложения в словах ... 30\n"
          ]
        }
      ],
      "source": [
        "train_dict, tokenizer, vocab_size, max_words, train_features = load_train_data(path_train_dict, path_tokenizer, path_features_inception)"
      ]
    },
    {
      "cell_type": "code",
      "execution_count": null,
      "metadata": {
        "id": "ny1qqWl1W2G4",
        "colab": {
          "base_uri": "https://localhost:8080/"
        },
        "outputId": "579b2aa7-b318-4f60-d9d0-e99dd6d0f022"
      },
      "outputs": [
        {
          "output_type": "stream",
          "name": "stdout",
          "text": [
            "341/341 [==============================] - 652s 2s/step - loss: 5.4030\n",
            "341/341 [==============================] - 644s 2s/step - loss: 4.4351\n",
            "341/341 [==============================] - 646s 2s/step - loss: 4.0517\n",
            "341/341 [==============================] - 649s 2s/step - loss: 3.7800\n",
            "341/341 [==============================] - 651s 2s/step - loss: 3.6068\n",
            "341/341 [==============================] - 655s 2s/step - loss: 3.4614\n",
            "341/341 [==============================] - 652s 2s/step - loss: 3.3479\n",
            "341/341 [==============================] - 650s 2s/step - loss: 3.2389\n",
            "341/341 [==============================] - 657s 2s/step - loss: 3.1418\n",
            "341/341 [==============================] - 662s 2s/step - loss: 3.0643\n",
            "341/341 [==============================] - 661s 2s/step - loss: 2.9812\n",
            "341/341 [==============================] - 658s 2s/step - loss: 2.9018\n",
            "341/341 [==============================] - 658s 2s/step - loss: 2.8282\n",
            "341/341 [==============================] - 654s 2s/step - loss: 2.7638\n",
            "341/341 [==============================] - 652s 2s/step - loss: 2.6967\n",
            "341/341 [==============================] - 646s 2s/step - loss: 2.6359\n",
            "341/341 [==============================] - 646s 2s/step - loss: 2.5805\n",
            "341/341 [==============================] - 644s 2s/step - loss: 2.5261\n",
            "341/341 [==============================] - 645s 2s/step - loss: 2.4742\n",
            "341/341 [==============================] - 649s 2s/step - loss: 2.4266\n",
            "время обучения в минутах ..... 224\n"
          ]
        }
      ],
      "source": [
        "model = build_rnn(2048, vocab_size, max_words)\n",
        "train_model(model, train_dict, tokenizer, max_words, train_features, batch_size, epochs_num)"
      ]
    },
    {
      "cell_type": "code",
      "source": [
        "model = build_alt_rnn(2048, vocab_size, max_words)\n",
        "train_model(model, train_dict, tokenizer, max_words, train_features, batch_size, epochs_num)"
      ],
      "metadata": {
        "id": "Stcl2X78oIiv"
      },
      "execution_count": null,
      "outputs": []
    }
  ],
  "metadata": {
    "colab": {
      "collapsed_sections": [],
      "name": "data.ipynb",
      "provenance": []
    },
    "kernelspec": {
      "display_name": "Python 3",
      "language": "python",
      "name": "python3"
    },
    "language_info": {
      "codemirror_mode": {
        "name": "ipython",
        "version": 2
      },
      "file_extension": ".py",
      "mimetype": "text/x-python",
      "name": "python",
      "nbconvert_exporter": "python",
      "pygments_lexer": "ipython2",
      "version": "2.7.6"
    }
  },
  "nbformat": 4,
  "nbformat_minor": 0
}